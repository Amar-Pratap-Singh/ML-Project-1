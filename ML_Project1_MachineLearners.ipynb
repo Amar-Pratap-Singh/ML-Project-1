{
  "metadata": {
    "kernelspec": {
      "name": "python3",
      "display_name": "Python 3",
      "language": "python"
    },
    "language_info": {
      "name": "python",
      "version": "3.7.12",
      "mimetype": "text/x-python",
      "codemirror_mode": {
        "name": "ipython",
        "version": 3
      },
      "pygments_lexer": "ipython3",
      "nbconvert_exporter": "python",
      "file_extension": ".py"
    },
    "vscode": {
      "interpreter": {
        "hash": "7d6993cb2f9ce9a59d5d7380609d9cb5192a9dedd2735a011418ad9e827eb538"
      }
    },
    "colab": {
      "provenance": [],
      "include_colab_link": true
    }
  },
  "nbformat_minor": 0,
  "nbformat": 4,
  "cells": [
    {
      "cell_type": "markdown",
      "metadata": {
        "id": "view-in-github",
        "colab_type": "text"
      },
      "source": [
        "<a href=\"https://colab.research.google.com/github/Amar-Pratap-Singh/ML-Project-1/blob/main/ML_Project1_MachineLearners.ipynb\" target=\"_parent\"><img src=\"https://colab.research.google.com/assets/colab-badge.svg\" alt=\"Open In Colab\"/></a>"
      ]
    },
    {
      "cell_type": "code",
      "source": [
        "import nltk\n",
        "import pandas as pd\n",
        "from nltk.stem import PorterStemmer\n",
        "from nltk.stem import WordNetLemmatizer\n",
        "from nltk.classify.scikitlearn import SklearnClassifier\n",
        "from nltk.classify import NaiveBayesClassifier\n",
        "from sklearn.naive_bayes import MultinomialNB\n",
        "from sklearn.linear_model import LogisticRegression"
      ],
      "metadata": {
        "execution": {
          "iopub.status.busy": "2022-10-16T17:01:10.268206Z",
          "iopub.execute_input": "2022-10-16T17:01:10.268744Z",
          "iopub.status.idle": "2022-10-16T17:01:10.275507Z",
          "shell.execute_reply.started": "2022-10-16T17:01:10.268705Z",
          "shell.execute_reply": "2022-10-16T17:01:10.274287Z"
        },
        "trusted": true,
        "id": "FpEeEcNs239v"
      },
      "execution_count": null,
      "outputs": []
    },
    {
      "cell_type": "markdown",
      "source": [
        "### Reading dataset"
      ],
      "metadata": {
        "id": "oRUKs3OR239x"
      }
    },
    {
      "cell_type": "code",
      "source": [
        "df = pd.read_csv(\"../input/yahoo-troll-question-detection/train_df.csv\")"
      ],
      "metadata": {
        "execution": {
          "iopub.status.busy": "2022-10-16T17:01:12.189809Z",
          "iopub.execute_input": "2022-10-16T17:01:12.190240Z",
          "iopub.status.idle": "2022-10-16T17:01:14.916781Z",
          "shell.execute_reply.started": "2022-10-16T17:01:12.190204Z",
          "shell.execute_reply": "2022-10-16T17:01:14.915532Z"
        },
        "trusted": true,
        "id": "7ayualJg239y"
      },
      "execution_count": null,
      "outputs": []
    },
    {
      "cell_type": "markdown",
      "source": [
        "# PREPROCESSING"
      ],
      "metadata": {
        "id": "lEtXtYhP239z"
      }
    },
    {
      "cell_type": "markdown",
      "source": [
        "Finding duplicates"
      ],
      "metadata": {
        "id": "zKGfXGXa239z"
      }
    },
    {
      "cell_type": "code",
      "source": [
        "len(df[df.duplicated()])"
      ],
      "metadata": {
        "execution": {
          "iopub.status.busy": "2022-10-16T17:01:18.523046Z",
          "iopub.execute_input": "2022-10-16T17:01:18.524085Z",
          "iopub.status.idle": "2022-10-16T17:01:19.334866Z",
          "shell.execute_reply.started": "2022-10-16T17:01:18.524009Z",
          "shell.execute_reply": "2022-10-16T17:01:19.333474Z"
        },
        "trusted": true,
        "id": "POJ78hnj239z",
        "outputId": "88261c0b-2f75-4808-9199-3a722b07a0e9"
      },
      "execution_count": null,
      "outputs": [
        {
          "execution_count": 10,
          "output_type": "execute_result",
          "data": {
            "text/plain": "0"
          },
          "metadata": {}
        }
      ]
    },
    {
      "cell_type": "markdown",
      "source": [
        "## 1. Removing Punctuations"
      ],
      "metadata": {
        "id": "PrwroDZz2390"
      }
    },
    {
      "cell_type": "code",
      "source": [
        "import string\n",
        "punctuations = list(string.punctuation)\n",
        "\n",
        "def remove_punctuation(text, punctuations):\n",
        "    for punctuation in punctuations:\n",
        "        if punctuation in text:\n",
        "            text = text.replace(punctuation, '')\n",
        "    return text.strip()\n",
        "\n",
        "\n",
        "df['question_text_pre_processed'] = df['question_text'].apply(lambda text: remove_punctuation(text, punctuations))"
      ],
      "metadata": {
        "execution": {
          "iopub.status.busy": "2022-10-16T17:01:22.657212Z",
          "iopub.execute_input": "2022-10-16T17:01:22.657672Z",
          "iopub.status.idle": "2022-10-16T17:01:25.362377Z",
          "shell.execute_reply.started": "2022-10-16T17:01:22.657635Z",
          "shell.execute_reply": "2022-10-16T17:01:25.361095Z"
        },
        "trusted": true,
        "id": "Z-CLGqMG2390"
      },
      "execution_count": null,
      "outputs": []
    },
    {
      "cell_type": "markdown",
      "source": [
        "## 2. Lowering the Text"
      ],
      "metadata": {
        "id": "Ddlq7wgm2391"
      }
    },
    {
      "cell_type": "code",
      "source": [
        "df['question_text_pre_processed'] = df['question_text_pre_processed'].apply(lambda text: text.lower())\n"
      ],
      "metadata": {
        "execution": {
          "iopub.status.busy": "2022-10-16T17:01:27.472145Z",
          "iopub.execute_input": "2022-10-16T17:01:27.472552Z",
          "iopub.status.idle": "2022-10-16T17:01:28.012833Z",
          "shell.execute_reply.started": "2022-10-16T17:01:27.472522Z",
          "shell.execute_reply": "2022-10-16T17:01:28.011522Z"
        },
        "trusted": true,
        "id": "4LMnhUbS2391"
      },
      "execution_count": null,
      "outputs": []
    },
    {
      "cell_type": "markdown",
      "source": [
        "## 3. Removing the STOP WORDS"
      ],
      "metadata": {
        "id": "pQieHvEZ2392"
      }
    },
    {
      "cell_type": "code",
      "source": [
        "stopwords = nltk.corpus.stopwords.words('english')\n",
        "\n",
        "df['question_text_pre_processed'] = df['question_text_pre_processed'].apply(lambda text: ' '.join(word for word in text.split() if word not in stopwords))\n"
      ],
      "metadata": {
        "execution": {
          "iopub.status.busy": "2022-10-16T17:01:30.647124Z",
          "iopub.execute_input": "2022-10-16T17:01:30.647516Z",
          "iopub.status.idle": "2022-10-16T17:02:00.386075Z",
          "shell.execute_reply.started": "2022-10-16T17:01:30.647486Z",
          "shell.execute_reply": "2022-10-16T17:02:00.384507Z"
        },
        "trusted": true,
        "id": "X25LaSOY2392"
      },
      "execution_count": null,
      "outputs": []
    },
    {
      "cell_type": "markdown",
      "source": [
        "## 4. Tokenization \n",
        "using \\\n",
        "`nltk.tokenize word_tokenize function`"
      ],
      "metadata": {
        "id": "_JZDGmhY2392"
      }
    },
    {
      "cell_type": "code",
      "source": [
        "from nltk.tokenize import word_tokenize\n",
        "\n",
        "df['question_text_pre_processed'] = df['question_text_pre_processed'].apply(lambda text: word_tokenize(text))\n"
      ],
      "metadata": {
        "execution": {
          "iopub.status.busy": "2022-10-16T17:02:05.134244Z",
          "iopub.execute_input": "2022-10-16T17:02:05.134671Z",
          "iopub.status.idle": "2022-10-16T17:03:54.587705Z",
          "shell.execute_reply.started": "2022-10-16T17:02:05.134635Z",
          "shell.execute_reply": "2022-10-16T17:03:54.586305Z"
        },
        "trusted": true,
        "id": "U-OM7gf12392"
      },
      "execution_count": null,
      "outputs": []
    },
    {
      "cell_type": "code",
      "source": [
        "df['question_text_pre_processed'].head()"
      ],
      "metadata": {
        "execution": {
          "iopub.status.busy": "2022-10-16T17:04:05.733045Z",
          "iopub.execute_input": "2022-10-16T17:04:05.733639Z",
          "iopub.status.idle": "2022-10-16T17:04:05.743916Z",
          "shell.execute_reply.started": "2022-10-16T17:04:05.733588Z",
          "shell.execute_reply": "2022-10-16T17:04:05.742712Z"
        },
        "trusted": true,
        "id": "z_-B2dIH2393",
        "outputId": "5b664ddf-d29f-47d6-e667-7004e1eeea1d"
      },
      "execution_count": null,
      "outputs": [
        {
          "execution_count": 15,
          "output_type": "execute_result",
          "data": {
            "text/plain": "0             [interesting, facts, microsoft, history]\n1                      [things, gon, na, happen, ever]\n2    [know, avoid, upsold, getting, car, brakes, ch...\n3                        [add, account, payment, bank]\n4    [multi, level, marketing, products, actually, ...\nName: question_text_pre_processed, dtype: object"
          },
          "metadata": {}
        }
      ]
    },
    {
      "cell_type": "markdown",
      "source": [
        "## 5. Stemming \n",
        "using \\\n",
        "`nltk.stem PorterStemmer stem function`"
      ],
      "metadata": {
        "id": "Yv35T_U62393"
      }
    },
    {
      "cell_type": "code",
      "source": [
        "ps = PorterStemmer()\n",
        "\n",
        "df['question_text_pre_processed_root'] = df['question_text_pre_processed'].apply(lambda text: [ps.stem(word) for word in text])\n"
      ],
      "metadata": {
        "execution": {
          "iopub.status.busy": "2022-10-16T17:04:09.821138Z",
          "iopub.execute_input": "2022-10-16T17:04:09.821524Z",
          "iopub.status.idle": "2022-10-16T17:07:17.539570Z",
          "shell.execute_reply.started": "2022-10-16T17:04:09.821493Z",
          "shell.execute_reply": "2022-10-16T17:07:17.538241Z"
        },
        "trusted": true,
        "id": "YQeClCQb2393"
      },
      "execution_count": null,
      "outputs": []
    },
    {
      "cell_type": "code",
      "source": [
        "df['question_text_pre_processed_root'].head()"
      ],
      "metadata": {
        "execution": {
          "iopub.status.busy": "2022-10-16T17:07:22.575341Z",
          "iopub.execute_input": "2022-10-16T17:07:22.575728Z",
          "iopub.status.idle": "2022-10-16T17:07:22.586419Z",
          "shell.execute_reply.started": "2022-10-16T17:07:22.575697Z",
          "shell.execute_reply": "2022-10-16T17:07:22.584871Z"
        },
        "trusted": true,
        "id": "RFQFzdan2393",
        "outputId": "2dcba753-9209-4bd1-d581-12651b8ec95d"
      },
      "execution_count": null,
      "outputs": [
        {
          "execution_count": 17,
          "output_type": "execute_result",
          "data": {
            "text/plain": "0                 [interest, fact, microsoft, histori]\n1                       [thing, gon, na, happen, ever]\n2        [know, avoid, upsold, get, car, brake, chang]\n3                        [add, account, payment, bank]\n4    [multi, level, market, product, actual, worth,...\nName: question_text_pre_processed_root, dtype: object"
          },
          "metadata": {}
        }
      ]
    },
    {
      "cell_type": "markdown",
      "source": [
        "## 6. Lemmatization \n",
        "using\\\n",
        "`nltk.stem WordNetLemmatizer lemmatize function`"
      ],
      "metadata": {
        "id": "mn51ymoe2394"
      }
    },
    {
      "cell_type": "code",
      "source": [
        "# word_lemmatize = WordNetLemmatizer()\n",
        "\n",
        "# def lemmatizer(text):\n",
        "#     lemm_text = [word_lemmatize.lemmatize(word) for word in text]\n",
        "#     return lemm_text\n",
        "\n",
        "# df['question_text_pre_processed_base'] = df['question_text_pre_processed_root'].apply(lambda text: [lemmatizer(text)])"
      ],
      "metadata": {
        "execution": {
          "iopub.status.busy": "2022-10-16T11:37:47.598329Z",
          "iopub.status.idle": "2022-10-16T11:37:47.598675Z",
          "shell.execute_reply.started": "2022-10-16T11:37:47.598501Z",
          "shell.execute_reply": "2022-10-16T11:37:47.598518Z"
        },
        "trusted": true,
        "id": "bEI_1l0G2394"
      },
      "execution_count": null,
      "outputs": []
    },
    {
      "cell_type": "code",
      "source": [
        "# df['question_text_pre_processed_base'][1]"
      ],
      "metadata": {
        "execution": {
          "iopub.status.busy": "2022-10-16T11:37:47.600306Z",
          "iopub.status.idle": "2022-10-16T11:37:47.600843Z",
          "shell.execute_reply.started": "2022-10-16T11:37:47.600566Z",
          "shell.execute_reply": "2022-10-16T11:37:47.600592Z"
        },
        "trusted": true,
        "id": "253arvxq2394"
      },
      "execution_count": null,
      "outputs": []
    },
    {
      "cell_type": "markdown",
      "source": [
        "# GENERATING MODELS"
      ],
      "metadata": {
        "id": "YSAgHblD2394"
      }
    },
    {
      "cell_type": "markdown",
      "source": [
        "## Feature Extraction"
      ],
      "metadata": {
        "id": "Zyv-3oXC2395"
      }
    },
    {
      "cell_type": "code",
      "source": [
        "X = df[\"question_text_pre_processed_root\"]"
      ],
      "metadata": {
        "execution": {
          "iopub.status.busy": "2022-10-16T17:19:44.368614Z",
          "iopub.execute_input": "2022-10-16T17:19:44.369181Z",
          "iopub.status.idle": "2022-10-16T17:19:44.375831Z",
          "shell.execute_reply.started": "2022-10-16T17:19:44.369131Z",
          "shell.execute_reply": "2022-10-16T17:19:44.374521Z"
        },
        "trusted": true,
        "id": "3yDcZML22395"
      },
      "execution_count": null,
      "outputs": []
    },
    {
      "cell_type": "code",
      "source": [
        "words = []\n",
        "\n",
        "X = X[: int(0.9*len(X))]"
      ],
      "metadata": {
        "execution": {
          "iopub.status.busy": "2022-10-16T17:19:47.897912Z",
          "iopub.execute_input": "2022-10-16T17:19:47.898354Z",
          "iopub.status.idle": "2022-10-16T17:19:47.904225Z",
          "shell.execute_reply.started": "2022-10-16T17:19:47.898311Z",
          "shell.execute_reply": "2022-10-16T17:19:47.903150Z"
        },
        "trusted": true,
        "id": "ofSPttNJ2395"
      },
      "execution_count": null,
      "outputs": []
    },
    {
      "cell_type": "code",
      "source": [
        "len(X)"
      ],
      "metadata": {
        "execution": {
          "iopub.status.busy": "2022-10-16T17:19:50.306757Z",
          "iopub.execute_input": "2022-10-16T17:19:50.307172Z",
          "iopub.status.idle": "2022-10-16T17:19:50.315798Z",
          "shell.execute_reply.started": "2022-10-16T17:19:50.307140Z",
          "shell.execute_reply": "2022-10-16T17:19:50.314568Z"
        },
        "trusted": true,
        "id": "bmUT9db72395",
        "outputId": "d7b403f7-6899-44f6-a02b-4e1c71a0cdbe"
      },
      "execution_count": null,
      "outputs": [
        {
          "execution_count": 40,
          "output_type": "execute_result",
          "data": {
            "text/plain": "900000"
          },
          "metadata": {}
        }
      ]
    },
    {
      "cell_type": "code",
      "source": [
        "for text in X:\n",
        "    for word in text: \n",
        "        words.append(word)"
      ],
      "metadata": {
        "execution": {
          "iopub.status.busy": "2022-10-16T17:20:19.538291Z",
          "iopub.execute_input": "2022-10-16T17:20:19.538708Z",
          "iopub.status.idle": "2022-10-16T17:20:20.708547Z",
          "shell.execute_reply.started": "2022-10-16T17:20:19.538675Z",
          "shell.execute_reply": "2022-10-16T17:20:20.706933Z"
        },
        "trusted": true,
        "id": "UmSWRFz92395"
      },
      "execution_count": null,
      "outputs": []
    },
    {
      "cell_type": "code",
      "source": [
        "words[:20]"
      ],
      "metadata": {
        "execution": {
          "iopub.status.busy": "2022-10-16T17:20:23.154818Z",
          "iopub.execute_input": "2022-10-16T17:20:23.155229Z",
          "iopub.status.idle": "2022-10-16T17:20:23.378764Z",
          "shell.execute_reply.started": "2022-10-16T17:20:23.155198Z",
          "shell.execute_reply": "2022-10-16T17:20:23.377453Z"
        },
        "trusted": true,
        "id": "KpUHe68t2396",
        "outputId": "fe721c11-7851-4fb8-8af1-349a3c13032b"
      },
      "execution_count": null,
      "outputs": [
        {
          "execution_count": 42,
          "output_type": "execute_result",
          "data": {
            "text/plain": "['interest',\n 'fact',\n 'microsoft',\n 'histori',\n 'thing',\n 'gon',\n 'na',\n 'happen',\n 'ever',\n 'know',\n 'avoid',\n 'upsold',\n 'get',\n 'car',\n 'brake',\n 'chang',\n 'add',\n 'account',\n 'payment',\n 'bank']"
          },
          "metadata": {}
        }
      ]
    },
    {
      "cell_type": "markdown",
      "source": [
        "##### Counting frequency of each word in the dataset"
      ],
      "metadata": {
        "id": "D-92JCZl2396"
      }
    },
    {
      "cell_type": "code",
      "source": [
        "words = nltk.FreqDist(words)"
      ],
      "metadata": {
        "execution": {
          "iopub.status.busy": "2022-10-16T17:20:26.659062Z",
          "iopub.execute_input": "2022-10-16T17:20:26.659450Z",
          "iopub.status.idle": "2022-10-16T17:20:31.497766Z",
          "shell.execute_reply.started": "2022-10-16T17:20:26.659420Z",
          "shell.execute_reply": "2022-10-16T17:20:31.496569Z"
        },
        "trusted": true,
        "id": "u-HV6k_y2396"
      },
      "execution_count": null,
      "outputs": []
    },
    {
      "cell_type": "code",
      "source": [
        "## To print values of frequency and sorting them\n",
        "\n",
        "# words = pd.DataFrame(list(words.items()), columns = [\"Words\",\"Frequency\"])\n",
        "# df3.sort_values('Frequency', ascending=False)"
      ],
      "metadata": {
        "execution": {
          "iopub.status.busy": "2022-10-16T11:37:47.611248Z",
          "iopub.status.idle": "2022-10-16T11:37:47.611816Z",
          "shell.execute_reply.started": "2022-10-16T11:37:47.611515Z",
          "shell.execute_reply": "2022-10-16T11:37:47.611546Z"
        },
        "trusted": true,
        "id": "RF95-cHt2396"
      },
      "execution_count": null,
      "outputs": []
    },
    {
      "cell_type": "markdown",
      "source": [
        "We are selecting all the words in feature word"
      ],
      "metadata": {
        "id": "JLlyX_eE2396"
      }
    },
    {
      "cell_type": "code",
      "source": [
        "feature_words = words"
      ],
      "metadata": {
        "execution": {
          "iopub.status.busy": "2022-10-16T17:20:35.839637Z",
          "iopub.execute_input": "2022-10-16T17:20:35.840196Z",
          "iopub.status.idle": "2022-10-16T17:20:35.845865Z",
          "shell.execute_reply.started": "2022-10-16T17:20:35.840147Z",
          "shell.execute_reply": "2022-10-16T17:20:35.844494Z"
        },
        "trusted": true,
        "id": "NIQThKgo2396"
      },
      "execution_count": null,
      "outputs": []
    },
    {
      "cell_type": "code",
      "source": [
        "# Convert all the splitted words into string datatype\n",
        "\n",
        "X = X.apply(lambda text: [str(word) for word in text])"
      ],
      "metadata": {
        "execution": {
          "iopub.status.busy": "2022-10-16T17:20:45.343531Z",
          "iopub.execute_input": "2022-10-16T17:20:45.343974Z",
          "iopub.status.idle": "2022-10-16T17:20:47.868654Z",
          "shell.execute_reply.started": "2022-10-16T17:20:45.343938Z",
          "shell.execute_reply": "2022-10-16T17:20:47.867287Z"
        },
        "trusted": true,
        "id": "x8rjJ_ty2397"
      },
      "execution_count": null,
      "outputs": []
    },
    {
      "cell_type": "code",
      "source": [
        "# Creating a dictionary of (word, word in feature_words) key-value pair for each word in each question_text\n",
        "# Returns array of dictionary containing words as keys if they are present in feature_words\n",
        "\n",
        "def find_features(text):\n",
        "    features = {}\n",
        "    for word in text:\n",
        "        features[word] = True\n",
        "    \n",
        "    return features"
      ],
      "metadata": {
        "execution": {
          "iopub.status.busy": "2022-10-16T17:20:56.430199Z",
          "iopub.execute_input": "2022-10-16T17:20:56.430608Z",
          "iopub.status.idle": "2022-10-16T17:20:56.436585Z",
          "shell.execute_reply.started": "2022-10-16T17:20:56.430577Z",
          "shell.execute_reply": "2022-10-16T17:20:56.435055Z"
        },
        "trusted": true,
        "id": "MH2mHIhg2397"
      },
      "execution_count": null,
      "outputs": []
    },
    {
      "cell_type": "code",
      "source": [
        "feature_set = [find_features(text) for text in X]"
      ],
      "metadata": {
        "execution": {
          "iopub.status.busy": "2022-10-16T17:21:07.890787Z",
          "iopub.execute_input": "2022-10-16T17:21:07.891218Z",
          "iopub.status.idle": "2022-10-16T17:21:09.014703Z",
          "shell.execute_reply.started": "2022-10-16T17:21:07.891181Z",
          "shell.execute_reply": "2022-10-16T17:21:09.013569Z"
        },
        "trusted": true,
        "id": "0EdTeye62397"
      },
      "execution_count": null,
      "outputs": []
    },
    {
      "cell_type": "code",
      "source": [
        "feature_set"
      ],
      "metadata": {
        "execution": {
          "iopub.status.busy": "2022-10-16T17:21:11.941068Z",
          "iopub.execute_input": "2022-10-16T17:21:11.941489Z",
          "iopub.status.idle": "2022-10-16T17:21:12.171191Z",
          "shell.execute_reply.started": "2022-10-16T17:21:11.941455Z",
          "shell.execute_reply": "2022-10-16T17:21:12.170013Z"
        },
        "collapsed": true,
        "jupyter": {
          "outputs_hidden": true
        },
        "trusted": true,
        "id": "5ixsYFQp2397",
        "outputId": "a45d79ce-5d9c-48ec-ea70-4d1164ebbb3a"
      },
      "execution_count": null,
      "outputs": [
        {
          "execution_count": 49,
          "output_type": "execute_result",
          "data": {
            "text/plain": "[{'interest': True, 'fact': True, 'microsoft': True, 'histori': True},\n {'thing': True, 'gon': True, 'na': True, 'happen': True, 'ever': True},\n {'know': True,\n  'avoid': True,\n  'upsold': True,\n  'get': True,\n  'car': True,\n  'brake': True,\n  'chang': True},\n {'add': True, 'account': True, 'payment': True, 'bank': True},\n {'multi': True,\n  'level': True,\n  'market': True,\n  'product': True,\n  'actual': True,\n  'worth': True,\n  'purchas': True},\n {'scope': True,\n  'would': True,\n  'recommend': True,\n  'remington': True,\n  'model': True,\n  '700': True,\n  '270': True,\n  'shoot': True,\n  '5600': True,\n  'yard': True},\n {'black': True, 'peopl': True, 'sustain': True, 'civil': True},\n {'citi': True, 'better': True, 'de': True, 'moin': True, 'omaha': True},\n {'thicken': True, 'stir': True, 'fri': True, 'sauc': True},\n {'woman': True, 'squirt': True, 'rub': True, 'clit': True, 'gentli': True},\n {'us': True,\n  'annual': True,\n  'parad': True,\n  'icbm': True,\n  'street': True,\n  'washington': True,\n  'dc': True},\n {'tran': True, 'woman': True, 'queef': True},\n {'telugu': True,\n  'word': True,\n  'kannukottadam': True,\n  'call': True,\n  'english': True},\n {'art': True,\n  'class': True,\n  'use': True,\n  'live': True,\n  'model': True,\n  'figur': True,\n  'draw': True,\n  'instead': True,\n  'pictur': True,\n  'im': True,\n  'curiou': True,\n  'appli': True},\n {'cat': True,\n  'exam': True,\n  'doesnt': True,\n  'provid': True,\n  'onlin': True,\n  'score': True,\n  'like': True,\n  'bitsat': True,\n  'candid': True,\n  'better': True,\n  'idea': True,\n  'appli': True},\n {'make': True,\n  'statement': True,\n  'referenc': True,\n  'two': True,\n  'distinct': True,\n  'element': True,\n  'div': True,\n  'tag': True,\n  'javascript': True},\n {'hungarian': True, 'openli': True, 'racist': True, 'islamophob': True},\n {'myer': True,\n  'brigg': True,\n  'type': True,\n  'indic': True,\n  'valid': True,\n  'thing': True,\n  'dont': True,\n  'seem': True,\n  'much': True,\n  'common': True,\n  'infj': True,\n  'label': True},\n {'best': True,\n  'microcontrol': True,\n  'help': True,\n  'realtim': True,\n  'updat': True,\n  'app': True},\n {'born': True,\n  'north': True,\n  'carolina': True,\n  'live': True,\n  '35': True,\n  'year': True,\n  'move': True,\n  'wisconsin': True,\n  'heard': True,\n  'resid': True,\n  'multipl': True,\n  'state': True,\n  'one': True,\n  'time': True,\n  'could': True,\n  'nc': True,\n  'dont': True,\n  'current': True},\n {'democrat': True, 'think': True, 'karl': True, 'marx': True},\n {'recoveri': True, 'process': True, 'sprain': True, 'finger': True},\n {'fiction': True,\n  'classic': True,\n  'recommend': True,\n  'someon': True,\n  'read': True,\n  'minim': True,\n  'book': True},\n {'imodium': True, 'compar': True, 'kaopect': True},\n {'web': True,\n  'site': True,\n  'use': True,\n  'vyapam': True,\n  'onlin': True,\n  'exam': True},\n {'prove': True,\n  'mathpi': True,\n  'e': True,\n  'sqrt33math': True,\n  'nonexist': True,\n  'fiction': True,\n  'number': True,\n  'elementari': True,\n  'pure': True,\n  'mathemat': True},\n {'pro': True,\n  'con': True,\n  'hp': True,\n  'lenovo': True,\n  'dell': True,\n  'laptop': True},\n {'transduc': True, 'haso': True, 'infinit': True, 'resolut': True},\n {'differ': True, 'entri': True, 'charg': True, 'cover': True, 'club': True},\n {'govern': True,\n  'want': True,\n  'work': True,\n  'black': True,\n  'money': True,\n  'doesnt': True,\n  'take': True,\n  'privat': True,\n  'bank': True,\n  'make': True},\n {'given': True, 'smock': True},\n {'way': True, 'literatur': True, 'fascin': True},\n {'tourist': True,\n  'spot': True,\n  'visit': True,\n  'olympia': True,\n  'washington': True},\n {'would': True,\n  'describ': True,\n  'chemic': True,\n  'structur': True,\n  'adenomat': True,\n  'polyposi': True,\n  'coli': True,\n  'apc': True},\n {'racism': True, 'racist': True, 'ideolog': True},\n {'favourit': True, 'stock': True},\n {'make': True, 'color': True, 'bread': True},\n {'hoosier': True, 'call': True},\n {'differ': True,\n  'govern': True,\n  'job': True,\n  'andhra': True,\n  'pradesh': True},\n {'would': True,\n  'lath': True,\n  'plaster': True,\n  'home': True,\n  'built': True,\n  'bay': True,\n  'area': True,\n  '1923': True,\n  'stand': True,\n  'earthquak': True},\n {'fight': True, 'hunger': True, 'pain': True},\n {'grow': True, 'best': True, 'math': True, 'teacher': True},\n {'iiit': True,\n  'allahabad': True,\n  'ece': True,\n  'term': True,\n  'placement': True},\n {'rain': True, 'e8': True, 'look': True, 'like': True},\n {'what': True,\n  'largest': True,\n  'confer': True,\n  'world': True,\n  'term': True,\n  'attende': True},\n {'chanc': True,\n  'modern': True,\n  'day': True,\n  'usa': True,\n  'go': True,\n  'full': True,\n  'nazi': True,\n  'regim': True},\n {'dont': True, 'energi': True},\n {'train': True,\n  'indian': True,\n  'air': True,\n  'forc': True,\n  'think': True,\n  'capabl': True,\n  'crack': True,\n  'ia': True,\n  'get': True,\n  'time': True,\n  'left': True,\n  'job': True},\n {'would': True,\n  'life': True,\n  'born': True,\n  'one': True,\n  'second': True,\n  'laterearli': True},\n {'best': True, 'comingofag': True, 'tv': True, 'seri': True},\n {'promin': True, 'mechan': True, 'engin': True},\n {'track': True, 'phone': True, 'target': True, 'get': True, 'notif': True},\n {'happen': True,\n  'put': True,\n  'sell': True,\n  'underli': True,\n  'later': True,\n  'acquir': True,\n  'stock': True,\n  'deal': True},\n {'best': True, 'way': True, 'knead': True, 'biscuit': True, 'dough': True},\n {'big': True,\n  'chunk': True,\n  'indian': True,\n  'modi': True,\n  'bhakt': True,\n  'religi': True,\n  'follow': True,\n  'hindu': True,\n  'ideolog': True,\n  'serious': True,\n  'swachh': True,\n  'bharat': True,\n  'abhiyan': True},\n {'advantag': True,\n  'fix': True,\n  'sight': True,\n  'rifl': True,\n  'like': True,\n  'm4': True},\n {'challeng': True,\n  'tom': True,\n  'carrol': True,\n  'face': True,\n  'basebal': True,\n  'pitcher': True},\n {'owner': True,\n  'slack': True,\n  'workspac': True,\n  'see': True,\n  'user': True,\n  'login': True},\n {'consid': True,\n  'n': True,\n  'korea': True,\n  'align': True,\n  'iran': True,\n  'sinc': True,\n  'iraqiran': True,\n  'war': True,\n  'like': True,\n  'collabor': True,\n  'develop': True,\n  'atom': True,\n  'weapon': True,\n  'program': True},\n {'restart': True, 'univers': True, 'thesi': True},\n {'probabl': True, 'greater': True, '6': True, 'solut': True},\n {'marri': True, 'women': True, 'think': True, 'sex': True},\n {'car': True, 'like': True, '20': True, 'year': True},\n {'work': True,\n  'minim': True,\n  'wage': True,\n  'afford': True,\n  'dodg': True,\n  'demon': True,\n  '16': True},\n {'gd': True,\n  'elimin': True,\n  'process': True,\n  'bob': True,\n  'pgdf': True,\n  'cours': True},\n {'write': True,\n  'techniqu': True,\n  'ruth': True,\n  'ozeki': True,\n  'use': True,\n  'book': True,\n  'tale': True,\n  'time': True},\n {'feel': True, 'jealou': True},\n {'better': True,\n  'studi': True,\n  'fli': True,\n  'school': True,\n  'india': True,\n  'abroad': True},\n {'china': True, 'monopoli': True, 'import': True, 'trade': True, 'usa': True},\n {'asperg': True,\n  'slowli': True,\n  'becom': True,\n  'crimin': True,\n  'stigmat': True,\n  'psychopathi': True},\n {'preorder': True,\n  'ac': True,\n  'origin': True,\n  'gold': True,\n  'edit': True,\n  'steam': True,\n  'realli': True,\n  'worth': True,\n  'somebodi': True,\n  'vagu': True,\n  'interest': True,\n  'ancient': True,\n  'egypt': True,\n  'histori': True,\n  'spare': True,\n  'money': True,\n  'plan': True,\n  'achiev': True,\n  '100': True,\n  'game': True,\n  'complet': True,\n  'love': True,\n  'assassin': True,\n  'creed': True,\n  'seri': True},\n {'remov': True, 'quota': True, 'ipad': True},\n {'everi': True,\n  'countri': True,\n  'planet': True,\n  'stop': True,\n  'trade': True,\n  'usa': True},\n {'happen': True, 'hanmalor': True, 'morton': True, 'facebook': True},\n {'class': True,\n  'conscious': True,\n  'still': True,\n  'strong': True,\n  'england': True},\n {'countri': True, 'tri': True, 'america': True, 'shame': True},\n {'3': True, 'number': True, 'make': True, '72': True},\n {'express': True, 'mean': True, 'take': True, 'ball': True, 'purs': True},\n {'strangest': True, 'friend': True},\n {'surpris': True,\n  'characterist': True,\n  'quirk': True,\n  'behavior': True,\n  'notic': True,\n  'children': True,\n  'remind': True,\n  'parent': True},\n {'differ': True, 'type': True, 'use': True, 'cider': True, 'vinegar': True},\n {'may': True, 'find': True, 'art': True, 'merchant': True, 'draw': True},\n {'conestoga': True,\n  'colleg': True,\n  'social': True,\n  'media': True,\n  'market': True,\n  'cours': True},\n {'normal': True,\n  'brain': True,\n  'feel': True,\n  'fuzzi': True,\n  'cloudi': True,\n  'lose': True,\n  'focu': True,\n  'glass': True},\n {'well': True, 'admybrand': True, 'perform': True, 'right': True},\n {'earli': True,\n  'season': True,\n  'challeng': True,\n  'indiana': True,\n  'pacer': True,\n  '201718': True},\n {'consequ': True, 'drop': True, 'headphon': True, 'water': True},\n {'bring': True,\n  'pet': True,\n  'dog': True,\n  'labrador': True,\n  '35kg': True,\n  'mumbai': True,\n  'bangalor': True},\n {'vehicl': True, 'currenc': True, 'facilit': True, 'exchang': True},\n {'borderlin': True,\n  'person': True,\n  'maintain': True,\n  'relationship': True,\n  '20': True,\n  'year': True},\n {'person': True, 'common': True, 'knowledg': True, 'world': True},\n {'juri': True,\n  'unabl': True,\n  'indict': True,\n  'polic': True,\n  'offic': True,\n  'shot': True,\n  'kill': True,\n  'philandro': True,\n  'castillo': True},\n {'jewish': True, 'peopl': True, 'live': True, 'till': True, '30': True},\n {'convert': True, 'dat': True, 'file': True, 'avi': True},\n {'start': True,\n  'dream': True,\n  'better': True,\n  'yet': True,\n  'conscious': True},\n {'growth': True,\n  'opportun': True,\n  'gi': True,\n  'applic': True,\n  'develop': True},\n {'best': True, 'colleg': True, 'mba': True},\n {'sell': True,\n  'recycl': True,\n  'old': True,\n  'nonwork': True,\n  'electron': True,\n  'patna': True},\n {'show': True,\n  'client': True,\n  'youv': True,\n  'sent': True,\n  'copi': True,\n  'letter': True,\n  'attorney': True},\n {'late': True,\n  'virgin': True,\n  'seen': True,\n  'sign': True,\n  'autism': True,\n  'spectrum': True,\n  'syndrom': True},\n {'materi': True,\n  'would': True,\n  'decreas': True,\n  'heat': True,\n  'increas': True,\n  'cold': True},\n {'sinc': True,\n  'new': True,\n  'testament': True,\n  'forbid': True,\n  'women': True,\n  'wear': True,\n  'hair': True,\n  'braid': True,\n  '1': True,\n  'peter': True,\n  '33': True,\n  'timothi': True,\n  '29': True,\n  'kjv': True,\n  'mani': True,\n  'christian': True},\n {'sweat': True, 'talk': True, 'peopl': True},\n {'procedur': True,\n  'admiss': True,\n  'ba': True,\n  'polit': True,\n  'honour': True,\n  'delhi': True,\n  'university…': True,\n  'entrenc': True,\n  'exam': True,\n  'interview': True},\n {'must': True,\n  'pharmaceut': True,\n  'firm': True,\n  'exploit': True,\n  'opportun': True,\n  'counter': True,\n  'threat': True},\n {'extent': True,\n  'use': True,\n  'fraud': True,\n  'detect': True,\n  'algorithm': True,\n  'differ': True,\n  'dataset': True,\n  'ie': True,\n  'bank': True,\n  'type': True,\n  'data': True,\n  'avail': True},\n {'gupta': True, 'age': True, 'call': True, 'golden': True, 'india': True},\n {'could': True,\n  'approxim': True,\n  'surfac': True,\n  'kitchen': True,\n  'spong': True},\n {'smoke': True,\n  'process': True,\n  'meal': True,\n  'caus': True,\n  'head': True,\n  'pain': True},\n {'board': True,\n  'result': True,\n  'go': True,\n  'b': True,\n  'consid': True,\n  'admiss': True,\n  'process': True,\n  'medic': True,\n  'colleg': True},\n {'adcumulu': True,\n  'affili': True,\n  'softwar': True,\n  'good': True,\n  'altern': True,\n  'hasoff': True},\n {'may': True,\n  'know': True,\n  'signific': True,\n  'badg': True,\n  'indian': True,\n  'armi': True,\n  'pocket': True},\n {'would': True,\n  'happen': True,\n  'martian': True,\n  'colonist': True,\n  'declar': True,\n  'king': True},\n {'best': True,\n  'onlin': True,\n  'hotel': True,\n  'distribut': True,\n  'system': True},\n {'top': True,\n  '10': True,\n  'real': True,\n  'estat': True,\n  'blogger': True,\n  'makaancom': True,\n  'reason': True,\n  'call': True,\n  'one': True,\n  'best': True},\n {'gener': True,\n  'success': True,\n  'rate': True,\n  'crowdfund': True,\n  'startup': True},\n {'would': True,\n  'good': True,\n  'introduct': True,\n  'appli': True,\n  'econom': True},\n {'im': True,\n  '13': True,\n  'date': True,\n  '17': True,\n  'year': True,\n  'old': True,\n  'boy': True,\n  'turn': True,\n  '14': True,\n  'june': True,\n  '18': True,\n  'okay': True,\n  'us': True,\n  'togeth': True,\n  'dont': True,\n  'want': True,\n  'get': True,\n  'troubl': True},\n {'everyon': True,\n  'say': True,\n  'florida': True,\n  'dysfunct': True,\n  'full': True,\n  'weirdo': True},\n {'ex': True, 'girlfriend': True, 'tri': True, 'contact': True},\n {'peopl': True,\n  'get': True,\n  'call': True,\n  'iim': True,\n  'top': True,\n  '50': True,\n  'cat': True,\n  'irrespect': True,\n  'past': True,\n  'academ': True},\n {'trump': True, 'lie': True, 'hair': True},\n {'best': True, 'compabl': True, 'leo': True, 'woman': True},\n {'possibl': True, 'schizophren': True, 'night': True, 'time': True},\n {'happen': True,\n  'nitrogen': True,\n  'oxygen': True,\n  'ratio': True,\n  'chang': True,\n  'littl': True},\n {'decid': True, 'job': True, 'path': True, 'take': True},\n {'bipolar': True,\n  'person': True,\n  'also': True,\n  'add': True,\n  'take': True,\n  'med': True},\n {'clever': True, 'peopl': True, 'consid': True, 'tricki': True},\n {'popular': True,\n  'dismiss': True,\n  'white': True,\n  'peopl': True,\n  'talk': True,\n  'color': True,\n  'dont': True,\n  'know': True,\n  'like': True,\n  'poc': True,\n  'logic': True,\n  'person': True,\n  'posit': True},\n {'got': True,\n  'reject': True,\n  'uc': True,\n  'santa': True,\n  'cruz': True,\n  'ce': True,\n  'major': True,\n  'offer': True,\n  'math': True,\n  'nonselect': True,\n  'go': True,\n  'option': True},\n {'benefit': True, 'saffron': True},\n {'islam': True,\n  'misunderstood': True,\n  'pakistani': True,\n  'founder': True,\n  'jinnah': True,\n  'anti': True,\n  'live': True,\n  'british': True,\n  'life': True,\n  'drink': True,\n  'wine': True,\n  'eat': True,\n  'pork': True,\n  'prefer': True,\n  'speak': True,\n  'english': True,\n  'littl': True,\n  'knowledg': True,\n  'quran': True},\n {'get': True, 'know': True, 'recent': True, 'startup': True, 'kolkata': True},\n {'ball': True, 'hard': True, 'face': True, 'batsman': True},\n {'would': True,\n  'differ': True,\n  'new': True,\n  'testament': True,\n  'old': True,\n  'exist': True},\n {'vega': True,\n  'shoot': True,\n  'meet': True,\n  'eye': True,\n  'read': True,\n  'comment': True,\n  'detail': True},\n {'could': True,\n  'make': True,\n  'world': True,\n  'better': True,\n  'place': True,\n  'remov': True,\n  'one': True,\n  'fortun': True,\n  '100': True,\n  'compani': True,\n  'would': True},\n {'lord': True, 'rama': True, 'krishna': True, 'black': True, 'colour': True},\n {'studi': True,\n  'jee': True,\n  'main': True,\n  'ncert': True,\n  'chemistri': True,\n  'physic': True,\n  'math': True,\n  'also': True,\n  'score': True,\n  'least': True,\n  '130': True},\n {'likelyposs': True,\n  'multi': True,\n  'nation': True,\n  'corpor': True,\n  'like': True,\n  'boe': True,\n  'would': True,\n  'sponsor': True,\n  'homemad': True,\n  'movi': True},\n {'good': True, 'menu': True, 'housewarm': True, 'parti': True},\n {'jesu': True, 'preach': True, 'synogagu': True, 'galile': True},\n {'hayat': True, 'marri': True},\n {'proper': True, 'age': True, 'get': True, 'navi': True},\n {'loop': True, 'mobil': True, 'unabl': True, 'sustain': True, 'market': True},\n {'russia': True, 'rich': True},\n {'interraci': True,\n  'relationship': True,\n  'disgust': True,\n  'feel': True,\n  'way': True},\n {'get': True,\n  'pregnant': True,\n  'sit': True,\n  'say': True,\n  'pregnanc': True,\n  'wasn': True,\n  '’': True,\n  't': True,\n  'plan': True,\n  'person': True,\n  'lie': True},\n {'feel': True,\n  'jealou': True,\n  'girl': True,\n  'like': True,\n  'talk': True,\n  'guy': True},\n {'kashmir': True,\n  'unrest': True,\n  'minor': True,\n  'doesnt': True,\n  'india': True,\n  'hold': True,\n  'referendum': True,\n  'shut': True},\n {'good': True,\n  'compani': True,\n  'altimetr': True,\n  'seen': True,\n  'mix': True,\n  'review': True,\n  'glassdoor': True,\n  'henc': True,\n  'confus': True,\n  'give': True,\n  'reliev': True,\n  'letter': True,\n  'easili': True},\n {'best': True,\n  'b2b': True,\n  'data': True,\n  'provid': True,\n  'usa': True,\n  'reach': True,\n  'target': True,\n  'nich': True},\n {'presid': True,\n  'trump': True,\n  'legal': True,\n  'right': True,\n  'ask': True,\n  'militari': True,\n  'stand': True,\n  'allow': True,\n  'russia': True,\n  'invad': True,\n  'usa': True,\n  'fire': True},\n {'best': True, 'book': True, 'lsat': True},\n {'caus': True, 'feet': True, 'hurt': True, 'get': True, 'bed': True},\n {'valu': True,\n  'mathleftco': True,\n  '2x': True,\n  'right2math': True,\n  'mathsqrt3sin': True,\n  'x2sqrt3co': True,\n  'x2sqrt32math': True},\n {'getaway': True, 'bad': True, 'day': True},\n {'uc': True,\n  'berkeley': True,\n  'allow': True,\n  'take': True,\n  'math': True,\n  'cours': True,\n  'selfstudi': True,\n  'prerequisit': True},\n {'would': True,\n  'combat': True,\n  'argument': True,\n  'sinc': True,\n  'dna': True,\n  'exist': True,\n  'creat': True,\n  'god': True},\n {'let': True,\n  'crimin': True,\n  'believ': True,\n  'god': True,\n  'run': True,\n  'countri': True,\n  'truli': True,\n  'brainwash': True,\n  'isit': True,\n  'stupid': True,\n  'can': True,\n  'not': True,\n  'use': True,\n  'brain': True,\n  'what': True,\n  'rite': True,\n  'say': True,\n  'proud': True},\n {'pursu': True, 'cpa': True, 'australia': True, 'india': True},\n {'averag': True,\n  'number': True,\n  'wwdc': True,\n  'scholarship': True,\n  'applic': True},\n {'next': True, 'ia': True, 'coach': True, 'upsc': True},\n {'qualiti': True,\n  '5086': True,\n  'aluminum': True,\n  'sheet': True,\n  'china': True},\n {'top': True,\n  'us': True,\n  'law': True,\n  'school': True,\n  'offer': True,\n  'financi': True,\n  'aid': True,\n  'intern': True,\n  'student': True},\n {'got': True,\n  'higher': True,\n  'mark': True,\n  'biolog': True,\n  'addit': True,\n  'math': True,\n  'main': True,\n  'subject': True},\n {'origin': True, 'raspberri': True, 'keton': True},\n {'nurseri': True, 'set': True, 'plant': True},\n {'would': True, 'like': True, 'sugar': True, 'daddi': True},\n {'purpos': True, 'maritim': True, 'academi': True, 'serv': True},\n {'upcom': True,\n  'hackathon': True,\n  'juli': True,\n  'august': True,\n  '2017': True,\n  'india': True},\n {'natur': True, 'function': True, 'wind': True},\n {'reward': True, 'peopl': True, 'like': True, 'fb': True, 'post': True},\n {'get': True,\n  'middleearth': True,\n  'shadow': True,\n  'war': True,\n  'xbox': True,\n  'steam': True},\n {'get': True,\n  'franchis': True,\n  'xiaomi': True,\n  'servic': True,\n  'centr': True},\n {'stationari': True, 'bike': True},\n {'severu': True,\n  'snape': True,\n  'quora': True,\n  'question': True,\n  'would': True,\n  'ask': True},\n {'pictur': True,\n  'sign': True,\n  'gym': True,\n  'cancel': True,\n  'form': True,\n  'continu': True,\n  'charg': True},\n {'becom': True,\n  'better': True,\n  'artist': True,\n  'liter': True,\n  'draw': True,\n  'like': True,\n  'hand': True},\n {'simul': True,\n  'biochem': True,\n  'physiolog': True,\n  'process': True,\n  'bodi': True,\n  'comput': True,\n  'program': True},\n {'song': True, 'make': True, 'burst': True, 'tear': True},\n {'german': True, 'guy': True, 'like': True, 'iranian': True, 'girl': True},\n {'make': True,\n  'human': True,\n  'cruel': True,\n  'nazi': True,\n  'islam': True,\n  'law': True,\n  'develop': True,\n  'countri': True,\n  'tortur': True,\n  'farm': True,\n  'anim': True,\n  'like': True,\n  'dont': True,\n  'feel': True,\n  'pain': True,\n  'inhuman': True,\n  'along': True},\n {'leia': True,\n  'castrat': True,\n  'lando': True,\n  'reveng': True,\n  'betray': True},\n {'decid': True,\n  'go': True,\n  'holiday': True,\n  'abroad': True,\n  'live': True,\n  'india': True,\n  'someon': True,\n  'recommend': True,\n  'countri': True,\n  'worth': True,\n  'visit': True,\n  'best': True,\n  'becom': True,\n  'destin': True},\n {'access': True, 'servic': True, 'canada': True, 'account': True},\n {'what': True, 'best': True, 'song': True, 'mayor': True},\n {'teacher': True,\n  'insist': True,\n  'unbak': True,\n  'cake': True,\n  'said': True,\n  'imposs': True,\n  'call': True,\n  'delusion': True,\n  'closemind': True},\n {'normal': True,\n  'mom': True,\n  'constantli': True,\n  'tell': True,\n  'dad': True,\n  'cheat': True,\n  'still': True,\n  'marri': True,\n  'live': True,\n  'hous': True},\n {'indian': True,\n  'pm': True,\n  'jawaharl': True,\n  'nehru': True,\n  'consid': True,\n  'sikh': True},\n {'research': True, 'paradigm': True},\n {'buy': True, 'flat': True, 'bangalor': True},\n {'ive': True,\n  'struggl': True,\n  'indecis': True,\n  'good': True,\n  'way': True,\n  'improv': True},\n {'watch': True,\n  'descend': True,\n  'sun': True,\n  'hindi': True,\n  'urdu': True,\n  'languag': True},\n {'snapchat': True,\n  'featur': True,\n  'copi': True,\n  'mani': True,\n  'app': True,\n  'cant': True,\n  'restrict': True,\n  'copyright': True,\n  'sue': True},\n {'base': True,\n  'averag': True,\n  'avail': True,\n  'time': True,\n  'lifetim': True,\n  'mani': True,\n  'music': True,\n  'instrument': True,\n  'one': True,\n  'person': True,\n  'truli': True,\n  'master': True,\n  'life': True},\n {'daniel': True,\n  'lewin': True,\n  'live': True,\n  'success': True,\n  'complet': True,\n  'oper': True,\n  '911': True},\n {'snack': True, 'eat': True, 'ranchita': True},\n {'forc': True, 'duction': True, 'test': True, 'reveal': True},\n {'china': True,\n  'censor': True,\n  'scientif': True,\n  'inform': True,\n  'internet': True},\n {'box': True, 'gift': True, 'idea': True, '2018': True},\n {'one': True,\n  'achiev': True,\n  'peac': True,\n  'mind': True,\n  'turbul': True,\n  'time': True,\n  'life': True},\n {'work': True, 'art': True, 'mean': True},\n {'get': True, 'virtual': True, 'number': True, 'whatsapp': True},\n {'peopl': True, 'put': True, 'deodor': True, 'go': True, 'sleep': True},\n {'go': True, 'holiday': True, 'effect': True, 'anemia': True},\n {'edit': True,\n  'name': True,\n  'registr': True,\n  'final': True,\n  'submiss': True,\n  'done': True,\n  'rrb': True,\n  'applic': True,\n  'form': True},\n {'freshman': True,\n  'begin': True,\n  'work': True,\n  'open': True,\n  'sourc': True,\n  'project': True},\n {'track': True, 'shoe': True, 'spike': True},\n {'electron': True, 'compani': True, 'prefer': True, 'fresher': True},\n {'riddler´': True, 'best': True, 'riddl': True},\n {'choos': True,\n  'commerc': True,\n  'decid': True,\n  'take': True,\n  'ca': True,\n  '12th': True},\n {'mistak': True,\n  'googl': True,\n  'translat': True,\n  'make': True,\n  'russian': True,\n  'english': True},\n {'would': True,\n  'anyon': True,\n  'mean': True,\n  'violent': True,\n  'toward': True,\n  'gay': True,\n  'transgend': True,\n  'peopl': True},\n {'omega': True, 'watch': True, 'come': True, 'red': True, 'pouch': True},\n {'1st': True, 'member': True, 'quora': True},\n {'purpos': True, 'field': True, 'agent': True, 'app': True},\n {'host': True,\n  'simpl': True,\n  'server': True,\n  'project': True,\n  'school': True,\n  'free': True},\n {'eat': True, 'solid': True, 'food': True, 'reduc': True, 'thirst': True},\n {'365': True, 'whole': True, 'food': True, 'store': True},\n {'crush': True, 'straight': True, 'girl': True, 'boyfriend': True},\n {'compani': True, 'launch': True, 'ipo': True, 'twice': True, 'india': True},\n {'differ': True, 'metal': True, 'head': True, 'normal': True, 'person': True},\n {'make': True,\n  'love': True,\n  'huge': True,\n  'impact': True,\n  'one': True,\n  'life': True},\n {'busi': True, 'start': True, '20000£': True, 'england': True},\n {'differ': True, 'isol': True, 'isopur': True, 'whey': True, 'protein': True},\n {'done': True, 'prevent': True, 'bank': True, 'scam': True, 'india': True},\n {'make': True,\n  'inhous': True,\n  'payment': True,\n  'system': True,\n  'websit': True},\n {'android': True,\n  'applic': True,\n  'increas': True,\n  'verbal': True,\n  'capabl': True},\n {'feel': True, '7th': True, 'chakra': True, 'open': True},\n {'what': True, 'best': True, 'book': True, 'startup': True},\n {'possibl': True,\n  'live': True,\n  '1500': True,\n  'aud': True,\n  'month': True,\n  'melbourn': True,\n  'australia': True},\n {'compani': True,\n  'stand': True,\n  'lose': True,\n  'rise': True,\n  'cryptocurr': True},\n {'interest': True,\n  'stuff': True,\n  'could': True,\n  'make': True,\n  'modern': True,\n  'laptop': True,\n  'back': True,\n  '80': True},\n {'fundament': True, 'forc': True, 'respons': True, 'diffus': True},\n {'feel': True,\n  'bad': True,\n  'buy': True,\n  'youtub': True,\n  'view': True,\n  'channel': True},\n {'good': True,\n  'bookstv': True,\n  'showsmovi': True,\n  'beginn': True,\n  'readwatch': True,\n  'attempt': True,\n  'learn': True,\n  'french': True},\n {'best': True, 'laptop': True, 'within': True, '40k': True, 'inr': True},\n {'best': True,\n  'question': True,\n  'ask': True,\n  'initi': True,\n  'telephon': True,\n  'interview': True,\n  'assess': True,\n  'prospect': True,\n  'technic': True,\n  'abil': True},\n {'much': True,\n  'money': True,\n  'averag': True,\n  'physician': True,\n  'md': True,\n  'make': True,\n  'unit': True,\n  'state': True},\n {'get': True,\n  'onlin': True,\n  'client': True,\n  'graphic': True,\n  'design': True,\n  'compani': True},\n {'bacteria': True,\n  'deal': True,\n  'mrna': True,\n  'without': True,\n  'stop': True,\n  'codon': True},\n {'could': True,\n  'let': True,\n  'know': True,\n  'best': True,\n  'scenic': True,\n  'place': True,\n  'around': True,\n  'mumbai': True},\n {'yonex': True,\n  'realli': True,\n  'best': True,\n  'brand': True,\n  'badminton': True,\n  'racket': True,\n  'tell': True,\n  'way': True,\n  'laic': True,\n  'recogn': True,\n  'good': True,\n  'qualiti': True},\n {'submit': True,\n  'multipl': True,\n  'letter': True,\n  'recommend': True,\n  'might': True,\n  'pain': True,\n  'professor': True,\n  'hardli': True,\n  'time': True,\n  'onlin': True,\n  'repositori': True,\n  'would': True,\n  'store': True,\n  'lor': True,\n  'refere': True,\n  'student': True,\n  'forward': True},\n {'woman': True, 'ditch': True, 'men': True},\n {'jew': True, 'hate': True},\n {'feel': True, 'emot': True, 'night': True},\n {'right': True,\n  'hand': True,\n  'increas': True,\n  'brain': True,\n  'power': True,\n  'use': True,\n  'left': True,\n  'write': True,\n  'paragraph': True},\n {'whatev': True,\n  'color': True,\n  'use': True,\n  'make': True,\n  'hair': True,\n  'black': True,\n  'later': True,\n  'lighten': True},\n {'electron': True,\n  'class': True,\n  'project': True,\n  'work': True,\n  'solar': True,\n  'energi': True},\n {'taught': True,\n  'class': True,\n  'requir': True,\n  'becom': True,\n  'uber': True,\n  'driver': True,\n  'nyc': True},\n {'practic': True,\n  'uberman': True,\n  'sleep': True,\n  'schedul': True,\n  'someon': True,\n  'person': True,\n  'tell': True,\n  'basic': True,\n  'pro': True,\n  'con': True},\n {'insult': True,\n  'peopl': True,\n  'swear': True,\n  'word': True,\n  'someth': True,\n  'human': True,\n  'natur': True,\n  'learn': True,\n  'environ': True},\n {'repli': True, 'someon': True, 'mock': True, 'anim': True},\n {'effort': True,\n  'eas': True,\n  'prison': True,\n  'overcrowd': True,\n  'us': True,\n  'would': True,\n  'happen': True,\n  'serv': True,\n  'life': True,\n  'without': True,\n  'possibl': True,\n  'parol': True,\n  'extermin': True},\n {'ipc': True,\n  '290': True,\n  'ruin': True,\n  'career': True,\n  'caught': True,\n  'smoke': True,\n  'public': True,\n  'place': True,\n  'fine': True,\n  'address': True,\n  'wrong': True,\n  'arrest': True,\n  'memo': True,\n  'name': True,\n  'real': True,\n  'harm': True,\n  'futur': True},\n {'lysol': True,\n  'purpos': True,\n  'cleaner': True,\n  'destroy': True,\n  'microb': True,\n  'cellular': True,\n  'level': True,\n  'cell': True,\n  'render': True,\n  'dead': True},\n {'clich': True, 'scene': True, 'dialogu': True, 'sick': True, 'see': True},\n {'cheapest': True,\n  '4g': True,\n  'dual': True,\n  'sim': True,\n  'smartphon': True,\n  'india': True},\n {'five': True, 'scienc': True},\n {'dog': True, 'howl': True, 'hear': True, 'alarm': True},\n {'quora': True,\n  'moder': True,\n  'edit': True,\n  'answer': True,\n  'wiki': True,\n  'question': True,\n  'profit': True},\n {'get': True,\n  'gf': True,\n  'tell': True,\n  'famili': True,\n  'i': True,\n  '’': True,\n  've': True,\n  'secret': True,\n  '8': True,\n  'month': True,\n  'don': True,\n  't': True,\n  'want': True,\n  'pressur': True,\n  'm': True,\n  'tire': True},\n {'ethic': True},\n {'class': True, 'time': True, 'tabl': True, 'look': True, 'like': True},\n {'saubhagya': True, 'yojna': True},\n {'us': True,\n  'polici': True,\n  'south': True,\n  'asia': True,\n  'go': True,\n  'destabilis': True,\n  'regiion': True},\n {'expens': True,\n  'matern': True,\n  'deliveri': True,\n  'facil': True,\n  'express': True,\n  'entri': True,\n  'immigr': True,\n  'canada': True},\n {'liber': True, 'conserv': True, 'state': True, 'usa': True},\n {'hide': True,\n  'facebook': True,\n  'messeng': True,\n  'anyon': True,\n  'see': True,\n  'activ': True,\n  'leav': True,\n  'say': True,\n  'sometim': True,\n  'name': True,\n  'word': True,\n  'appear': True,\n  'mean': True},\n {'long': True,\n  'peopl': True,\n  'code': True,\n  'assembl': True,\n  'languag': True,\n  'higher': True,\n  'level': True,\n  'invent': True},\n {'mr': True,\n  'presid': True,\n  'first': True,\n  'use': True,\n  'titl': True,\n  'american': True},\n {'true': True,\n  'third': True,\n  'world': True,\n  'war': True,\n  'broke': True,\n  'would': True,\n  'unit': True,\n  'nation': True,\n  'ceas': True,\n  'relev': True},\n {'step': True, 'run': True, 'bulk': True, 'sm': True, 'campaign': True},\n {'calcul': True,\n  'volum': True,\n  'concret': True,\n  '3': True,\n  'pile': True,\n  'group': True,\n  'cap': True},\n {'good': True, 'chicago': True, 'school': True, 'woodwork': True},\n {'hate': True,\n  'first': True,\n  'job': True,\n  'work': True,\n  'bare': True,\n  'year': True,\n  'think': True,\n  'quit': True,\n  'start': True,\n  'busi': True,\n  'crazi': True},\n {'much': True, 'love': True, 'lord': True, 'rama': True},\n {'l': True, 'solv': True, '3xex': True, 'bisect': True, 'method': True},\n {'get': True,\n  'measur': True,\n  'competit': True,\n  'level': True,\n  'within': True,\n  'economi': True},\n {'would': True,\n  'someon': True,\n  'list': True,\n  'hous': True,\n  'absolut': True,\n  'intent': True,\n  'sell': True},\n {'would': True,\n  'win': True,\n  'fight': True,\n  'donald': True,\n  'trump': True,\n  'supermass': True,\n  'black': True,\n  'hole': True},\n {'mani': True, 'hospit': True, 'bed': True, 'india': True},\n {'like': True,\n  'summer': True,\n  'can': True,\n  '’': True,\n  't': True,\n  'time': True,\n  'year': True},\n {'scope': True, 'pr': True, 'firm': True, 'delhi': True},\n {'geographi': True,\n  'influenc': True,\n  'develop': True,\n  'ancient': True,\n  'mesopotamian': True,\n  'egyptian': True,\n  'cultur': True},\n {'cricket': True,\n  'cant': True,\n  'everi': True,\n  'fast': True,\n  'bowler': True,\n  'bowl': True,\n  'quick': True,\n  'despit': True,\n  'daili': True,\n  'train': True,\n  'everyon': True,\n  '150': True,\n  'kph': True,\n  'matter': True,\n  'fit': True},\n {'essenti': True,\n  'daili': True,\n  'schedul': True,\n  'reach': True,\n  'leagu': True,\n  'high': True,\n  'achiev': True,\n  'life': True},\n {'often': True, 'encount': True, 'cheap': True, 'asian': True},\n {'two': True, 'irrat': True, 'no': True, '2017': True, '2018': True},\n {'perform': True, 'jitterbug': True, 'danc': True, 'step': True},\n {'govern': True,\n  'analyt': True,\n  'use': True,\n  'polit': True,\n  'risk': True,\n  'specialist': True},\n {'appli': True, 'ra': True, '2018': True},\n {'suppos': True,\n  'hypothet': True,\n  'charact': True,\n  'harri': True,\n  'potter': True,\n  'underw': True,\n  'scientif': True,\n  'procedur': True,\n  'castrat': True,\n  'implic': True,\n  'would': True,\n  'upon': True,\n  'plot': True,\n  'pace': True,\n  'structur': True,\n  'motion': True,\n  'film': True,\n  'seri': True},\n {'resourc': True,\n  'use': True,\n  'teach': True,\n  '3': True,\n  'yo': True,\n  'english': True},\n {'peopl': True,\n  'bring': True,\n  'hiroshima': True,\n  'nagasaki': True,\n  'bomb': True,\n  '70': True,\n  'year': True,\n  'ago': True,\n  'everyon': True,\n  'seem': True,\n  'move': True,\n  'holocaust': True,\n  'massacr': True,\n  'nank': True,\n  'occur': True,\n  'time': True,\n  'period': True},\n {'score': True,\n  '20': True,\n  'plu': True,\n  'qa': True,\n  'cpt': True,\n  'exam': True,\n  'prepar': True,\n  '8': True,\n  'chapter': True,\n  '16': True,\n  'possibl': True,\n  'mark': True},\n {'would': True, 'happen': True, 'ate': True, 'meat': True, 'plant': True},\n {'surabhigautam': True,\n  'prepar': True,\n  'strategi': True,\n  'upsc': True,\n  'cse': True,\n  'di': True,\n  'clear': True,\n  'ese': True},\n {'think': True, 'capit': True, 'fundament': True, 'flaw': True},\n {'air': True, 'traffic': True, 'control': True, 'made': True, 'mistak': True},\n {'cation': True,\n  'sblock': True,\n  'colourless': True,\n  'dblock': True,\n  'colour': True},\n {'choos': True,\n  'right': True,\n  'type': True,\n  'rice': True,\n  'burrito': True,\n  'recip': True},\n {'winston': True, 'churchil': True, 'illegitim': True, 'children': True},\n {'much': True, 'money': True, 'need': True, 'join': True, 'barcelona': True},\n {'pakistan': True, 'obsess': True, 'nuclear': True, 'weapon': True},\n {'solut': True, 'z1': True, '3z3': True, 'z05': True, 'z125': True},\n {'prevent': True,\n  'get': True,\n  'pain': True,\n  'behind': True,\n  'left': True,\n  'breast': True},\n {'run': True,\n  '400m': True,\n  'dash': True,\n  '103': True,\n  'second': True,\n  'fastest': True,\n  '7th': True,\n  'grade': True,\n  'track': True,\n  'team': True,\n  'would': True,\n  'like': True,\n  'know': True,\n  'goood': True,\n  'time': True,\n  'work': True,\n  'harder': True},\n {'get': True, 'rid': True, 'strawberri': True, 'skin': True, 'thigh': True},\n {'use': True,\n  'listen': True,\n  'podcast': True,\n  'man': True,\n  'cassett': True,\n  'tape': True,\n  'organ': True,\n  'mainli': True,\n  'apart': True,\n  'build': True,\n  'might': True},\n {'chang': True, 'job': True, 'green': True, 'card': True},\n {'tell': True, 'movi': True, 'spoil': True},\n {'becom': True,\n  'gamer': True,\n  'basic': True,\n  'thing': True,\n  'need': True,\n  'know': True},\n {'pass': True,\n  'cs': True,\n  'execut': True,\n  '2': True,\n  'month': True,\n  'start': True,\n  'scratch': True},\n {'labia': True, 'majora': True, 'puffi': True},\n {'way': True, 'die': True, 'digniti': True, 'germani': True},\n {'dont': True,\n  'think': True,\n  'krypton': True,\n  'tv': True,\n  'show': True,\n  'made': True,\n  'mani': True,\n  'rooki': True,\n  'mistak': True,\n  'adam': True,\n  'strang': True,\n  'instead': True,\n  'booster': True,\n  'gold…': True,\n  'higher': True,\n  'graviti': True,\n  'present…': True,\n  'seg': True,\n  'alreadi': True,\n  'know': True,\n  'much': True,\n  'future…': True},\n {'pulitz': True, 'prize': True, 'fiction': True},\n {'type': True,\n  'work': True,\n  'task': True,\n  'virtual': True,\n  'assist': True,\n  'best': True},\n {'old': True, 'school': True, 'went': True},\n {'girl': True, 'like': True, 'harass': True, 'onlin': True},\n {'inmat': True,\n  'attorney': True,\n  'count': True,\n  'visitor': True,\n  'week': True},\n {'recov': True, 'note': True, 'iphon': True},\n {'moral': True,\n  'dead': True,\n  'peopl': True,\n  'tina': True,\n  'dani': True,\n  'use': True,\n  'reserv': True,\n  'wherea': True,\n  'deep': True,\n  'know': True,\n  'far': True,\n  'needi': True,\n  'badli': True,\n  'need': True,\n  'purpos': True},\n {'rape': True,\n  'victim': True,\n  'want': True,\n  'press': True,\n  'charg': True,\n  'rapist': True,\n  'go': True,\n  'free': True,\n  'happen': True},\n {'gordon': True, 'miller': True, 'view': True, 'answer': True},\n {'characterist': True, 'dicot': True, 'seed': True},\n {'might': True,\n  'kill': True,\n  'giant': True,\n  'weep': True,\n  'sequoia': True,\n  'turn': True,\n  'brown': True,\n  'dri': True,\n  'top': True,\n  'start': True,\n  'winter': True,\n  'local': True,\n  'landscap': True,\n  'thought': True,\n  'beetl': True,\n  'bore': True,\n  'infect': True,\n  'small': True,\n  'hole': True,\n  'flicker': True,\n  'peck': True,\n  'stem': True},\n {'get': True,\n  'littl': True,\n  'brother': True,\n  'stop': True,\n  'watch': True,\n  'jake': True,\n  'paul': True},\n {'tame': True, 'black': True, 'panther': True},\n {'genet': True,\n  'engin': True,\n  'allow': True,\n  'plant': True,\n  'anim': True,\n  'modifi': True,\n  'matur': True,\n  'occur': True,\n  'quicker': True,\n  'pace': True},\n {'convinc': True, 'mother': True, 'sleep': True, 'son': True},\n {'mani': True,\n  'nation': True,\n  'involv': True,\n  'satan': True,\n  'decept': True,\n  'that': True,\n  'go': True},\n {'persian': True,\n  'regain': True,\n  'land': True,\n  'lost': True,\n  'alexand': True},\n {'ap': True,\n  'statist': True,\n  'differ': True,\n  'good': True,\n  'fit': True,\n  'test': True,\n  'homogen': True},\n {'document': True,\n  'verifi': True,\n  'upse': True,\n  'go': True,\n  'colleg': True,\n  'verif': True},\n {'what': True,\n  'wrong': True,\n  'black': True,\n  'peopl': True,\n  'cant': True,\n  'major': True,\n  'us': True,\n  'break': True,\n  'barrier': True,\n  'poverti': True,\n  'labour': True,\n  'religi': True,\n  'earth': True},\n {'best': True, 'tip': True, 'edit': True, 'video': True},\n {'doesnt': True,\n  'ghostbsd': True,\n  'support': True,\n  'broadcom': True,\n  'wireless': True},\n {'fresher': True,\n  'ok': True,\n  'join': True,\n  'role': True,\n  'job': True,\n  'abroad': True,\n  'experi': True,\n  'includ': True,\n  'later': True},\n {'studi': True,\n  'mechan': True,\n  'engin': True,\n  'project': True,\n  'altern': True,\n  'energi': True,\n  'system': True,\n  'idea': True},\n {'gold': True,\n  'coast': True,\n  '2018': True,\n  'commonwealth': True,\n  'game': True,\n  'open': True,\n  'theme': True,\n  'aborigin': True,\n  'don': True,\n  '’': True,\n  't': True,\n  'think': True,\n  'treat': True,\n  'australian': True,\n  'particularli': True,\n  'migrant': True,\n  'white': True,\n  'founder': True,\n  'help': True,\n  'built': True,\n  'australia': True,\n  'like': True,\n  'second': True,\n  'class': True,\n  'citizen': True},\n {'right': True,\n  'step': True,\n  'follow': True,\n  'search': True,\n  'job': True,\n  'oil': True,\n  'ga': True,\n  'industri': True,\n  'especi': True,\n  'relat': True,\n  'civil': True,\n  'engin': True},\n {'tri': True, 'appreci': True, 'everyday': True},\n {'face': True, 'ssb': True, 'interview': True, '1st': True, 'time': True},\n {'like': True,\n  'work': True,\n  'appl': True,\n  'hyderabad': True,\n  'softwar': True,\n  'engin': True},\n {'mani': True, 'retir': True, 'room': True, 'avail': True, 'pune': True},\n {'mani': True,\n  'type': True,\n  'inertia': True,\n  'give': True,\n  'one': True,\n  'exampl': True},\n {'best': True,\n  'flute': True,\n  'coach': True,\n  'institut': True,\n  'chennai': True},\n {'minimum': True,\n  'cgpa': True,\n  'requir': True,\n  'get': True,\n  'admit': True,\n  'ntu': True,\n  'master': True},\n {'citi': True,\n  'interest': True,\n  'visit': True,\n  'dublin': True,\n  'edinburgh': True},\n {'would': True,\n  'peopl': True,\n  'gullibl': True,\n  'believ': True,\n  'larg': True,\n  'perfectli': True,\n  'symmetr': True,\n  'crop': True,\n  'circl': True,\n  'intric': True,\n  'geometr': True,\n  'design': True,\n  'could': True,\n  'made': True,\n  '2': True,\n  'drunk': True,\n  'men': True,\n  'board': True,\n  'rope': True,\n  'hour': True,\n  'dark': True,\n  'matter': True},\n {'offer': True,\n  'employe': True,\n  'bonu': True,\n  'quit': True,\n  'help': True,\n  'product': True},\n {'web': True,\n  'analyt': True,\n  'data': True,\n  'job': True,\n  'new': True,\n  'zealand': True,\n  'skill': True,\n  'shortag': True,\n  'list': True,\n  'name': True,\n  'could': True,\n  'someon': True,\n  'pleas': True,\n  'help': True},\n {'ca': True, 'still': True, 'scope': True, 'india': True},\n {'synarthrot': True, 'joint': True},\n {'largest': True,\n  'possibl': True,\n  'number': True,\n  'form': True,\n  '4': True,\n  '7': True,\n  '2': True,\n  '5': True,\n  '3': True,\n  '8': True},\n {'start': True, 'bpo': True, 'bangalor': True, 'invest': True},\n {'import': True,\n  'bill': True,\n  'system': True,\n  'onlin': True,\n  'order': True,\n  'websit': True},\n {'memor': True,\n  'quot': True,\n  'book': True,\n  'unbroken': True,\n  'laura': True,\n  'hillenbrand': True},\n {'noninvert': True,\n  'amplifi': True,\n  'convert': True,\n  'voltag': True,\n  'follow': True,\n  'circuit': True},\n {'cpu': True,\n  'first': True,\n  'core': True,\n  'call': True,\n  '0': True,\n  'instead': True,\n  '1': True},\n {'make': True, 'butter': True, 'milk': True},\n {'could': True,\n  'sweden': True,\n  'becom': True,\n  'first': True,\n  'countri': True,\n  'establish': True,\n  'freedom': True,\n  'press': True},\n {'mclaren': True,\n  'plan': True,\n  'open': True,\n  'dealership': True,\n  'india': True,\n  'indian': True,\n  'citi': True,\n  'like': True,\n  'get': True,\n  'offici': True},\n {'calcul': True, 'fuel': True, 'economi': True, 'car': True},\n {'make': True,\n  'student': True,\n  'good': True,\n  'fit': True,\n  'program': True,\n  'top': True,\n  'colleg': True},\n {'get': True, 'credit': True, 'score': True},\n {'home': True, 'renov': True, 'project': True},\n {'write': True,\n  'suggest': True,\n  'add': True,\n  'bitsat': True,\n  'examin': True,\n  'centr': True,\n  'kochi': True},\n {'american': True, 'school': True, 'curriculum': True},\n {'passport': True,\n  'issu': True,\n  'kolkata': True,\n  'join': True,\n  'new': True,\n  'compani': True,\n  'hyderabad': True,\n  'renew': True,\n  'expir': True,\n  '2018': True},\n {'differ': True,\n  'thing': True,\n  'take': True,\n  'consider': True,\n  'enrol': True,\n  'univers': True,\n  'north': True,\n  'sumatra': True},\n {'step': True,\n  'need': True,\n  'becom': True,\n  'behavior': True,\n  'scientist': True},\n {'best': True,\n  'book': True,\n  'gate': True,\n  'previou': True,\n  'year': True,\n  'question': True,\n  'bank': True,\n  'chapter': True,\n  'wise': True,\n  'subjectwis': True},\n {'vietnam': True,\n  'dispatch': True,\n  'soldier': True,\n  'un': True,\n  'peac': True,\n  'keep': True,\n  'mission': True},\n {'stop': True,\n  'want': True,\n  'around': True,\n  'peopl': True,\n  'hurt': True,\n  'emot': True},\n {'nepal': True, 'declar': True, 'secular': True, 'state': True},\n {'franco': True,\n  'russian': True,\n  'allianc': True,\n  'made': True,\n  'backbon': True,\n  'tripl': True,\n  'entent': True,\n  'happen': True,\n  'year': True},\n {'chines': True,\n  'peopl': True,\n  'crazi': True,\n  'watermelon': True,\n  'competit': True},\n {'idea': True, 'enlighten': True, 'person': True},\n {'israel': True,\n  'biggest': True,\n  'enemi': True,\n  'iran': True,\n  'pakistan': True},\n {'stomach': True, 'hurt': True, 'bowel': True, 'movement': True},\n {'fight': True, 'traffic': True, 'ticket': True},\n {'recov': True, 'delet': True, 'photo': True, 'keypad': True, 'phone': True},\n {'advanc': True, 'retard': True, 'ignit': True, 'engin': True},\n {'weigh': True, 'menstrual': True, 'period': True},\n {'would': True,\n  'describ': True,\n  'organiz': True,\n  'structur': True,\n  'feder': True,\n  'air': True,\n  'marshal': True,\n  'servic': True},\n {'shsv': True},\n {'law': True, 'allow': True, 'govern': True, 'break': True, 'monopoli': True},\n {'person': True,\n  'like': True,\n  'play': True,\n  'safe': True,\n  'life': True,\n  'consid': True,\n  'coward': True},\n {'mani': True, 'score': True, '400': True, 'upse': True, '2018': True},\n {'want': True,\n  'rent': True,\n  'room': True,\n  'london': True,\n  'im': True,\n  'older': True,\n  'woman': True,\n  'independ': True,\n  'natur': True,\n  'expect': True,\n  'pay': True},\n {'alreadi': True,\n  'know': True,\n  'world': True,\n  'flat': True,\n  'scientif': True,\n  'commun': True,\n  'still': True,\n  'attempt': True,\n  'deni': True},\n {'white': True,\n  'peopl': True,\n  'say': True,\n  'east': True,\n  'asian': True,\n  'worship': True,\n  'dont': True,\n  'know': True,\n  'cultur': True,\n  'histori': True,\n  'superior': True},\n {'ime': True,\n  'proschool': True,\n  'pg': True,\n  'diploma': True,\n  'data': True,\n  'scienc': True,\n  'cours': True,\n  'worth': True},\n {'good': True,\n  'analysi': True,\n  'biographi': True,\n  'frank': True,\n  'gatson': True,\n  'jr': True},\n {'secretari': True, 'educ': True, 'regularli': True, 'work': True},\n {'get': True, 'pg': True, 'admiss': True, 'delhi': True, 'univers': True},\n {'what': True, 'differ': True, 'ты': True, 'вы': True},\n {'much': True, 'take': True, 'finish': True, 'jawbreak': True},\n {'lost': True,\n  'love': True,\n  'life': True,\n  'mistak': True,\n  'cant': True,\n  'stop': True,\n  'cri': True,\n  'think': True,\n  'forget': True},\n {'student': True,\n  'med': True,\n  'colleg': True,\n  'aiim': True,\n  'also': True,\n  'hectic': True,\n  'schedul': True,\n  'hardli': True,\n  'get': True,\n  'time': True,\n  'socialis': True},\n {'liber': True,\n  'chang': True,\n  'titl': True,\n  'thread': True,\n  'gave': True,\n  'right': True,\n  'think': True,\n  'entitl': True},\n {'wear': True, 'hizab': True, 'sign': True, 'slaveri': True},\n {'similar': True, 'bard': True, 'lard': True},\n {'delet': True, 'messag': True, 'facebook': True, 'side': True},\n {'averag': True, 'mani': True, 'year': True, 'bike': True, 'run': True},\n {'french': True, 'peopl': True, 'immigr': True, 'quebec': True},\n {'know': True, 'ill': True, 'ever': True, 'husband': True, 'famili': True},\n {'main': True, 'item': True, 'includ': True, 'salari': True},\n {'what': True,\n  'creativ': True,\n  'way': True,\n  'tell': True,\n  'boyfriend': True,\n  'im': True,\n  'give': True,\n  'phone': True,\n  'bought': True,\n  'new': True,\n  'one': True,\n  'lol': True},\n {'function': True, 'cpr': True},\n {'normal': True,\n  'say': True,\n  'love': True,\n  'four': True,\n  'month': True,\n  'relationship': True,\n  'even': True,\n  'everyth': True,\n  'go': True,\n  'well': True},\n {'weather': True, 'like': True, 'milford': True, 'mi': True},\n {'dog': True,\n  'need': True,\n  'go': True,\n  'vet': True,\n  'gave': True,\n  'small': True,\n  'dose': True,\n  'salt': True,\n  'onion': True,\n  'two': True,\n  'day': True,\n  'ago': True,\n  'today': True,\n  'woke': True,\n  'shake': True,\n  'spit': True,\n  'everywher': True,\n  'minut': True,\n  'could': True,\n  'also': True,\n  'result': True,\n  'fear': True,\n  'joy': True},\n {'differ': True,\n  'north': True,\n  'korean': True,\n  'south': True,\n  'languag': True},\n {'injur': True,\n  'veteran': True,\n  'harder': True,\n  'cope': True,\n  'injuri': True,\n  'peopl': True,\n  'around': True,\n  'feel': True,\n  'sorri': True},\n {'plant': True, 'need': True, 'oxygen': True},\n {'would': True,\n  'calcul': True,\n  'destruct': True,\n  'forc': True,\n  'peni': True,\n  'convert': True,\n  'pure': True,\n  'energi': True,\n  'way': True,\n  'nuclear': True,\n  'bomb': True,\n  'work': True},\n {'mani': True, 'countri': True, 'part': True, 'un': True},\n {'wera': True,\n  'napoleon': True,\n  'hill': True,\n  'major': True,\n  'accomplish': True,\n  'author': True},\n {'make': True,\n  'sens': True,\n  'peopl': True,\n  'penal': True,\n  'coloni': True,\n  'offens': True,\n  'genet': True,\n  'trait': True},\n {'improv': True, 'grammarspel': True, 'onlin': True},\n {'peopl': True, 'lie': True, 'without': True, 'intent': True},\n {'interview': True,\n  'your': True,\n  'get': True,\n  'respons': True,\n  'ask': True,\n  'wait': True,\n  'mean': True},\n {'find': True,\n  'mathdisplaystylelimxto': True,\n  'infinity1x21lnx': True,\n  'math': True},\n {'manliest': True, 'man': True, 'histori': True, 'indonesia': True},\n {'salari': True,\n  'senior': True,\n  'associatetravel': True,\n  'paytm': True,\n  'bangalor': True},\n {'basic': True,\n  'knowledg': True,\n  'requir': True,\n  'crack': True,\n  'gate': True,\n  'exam': True},\n {'what': True, 'scope': True, 'pf': True, 'pharmd': True, 'acca': True},\n {'much': True,\n  'sunlight': True,\n  'strawberri': True,\n  'plant': True,\n  'get': True},\n {'best': True, 'place': True, 'buy': True, 'bitcoin': True, 'uk': True},\n {'happi': True, 'marriag': True},\n {'cost': True,\n  'set': True,\n  'industri': True,\n  '3d': True,\n  'print': True,\n  'prototyp': True,\n  'compani': True,\n  'india': True},\n {'happen': True,\n  'indian': True,\n  'custom': True,\n  'water': True,\n  'collid': True,\n  'srilankan': True},\n {'kathi': True, 'griffin': True, 'think': True, 'funni': True},\n {'differ': True, 'standard': True, 'unit': True},\n {'stori': True,\n  'behind': True,\n  'name': True,\n  '“': True,\n  'email': True,\n  'spam': True,\n  '”': True,\n  'call': True},\n {'hitler': True,\n  'militari': True,\n  'command': True,\n  'perform': True,\n  'well': True},\n {'make': True, 'gmc': True, 'superior': True, 'chevrolet': True},\n {'softwar': True,\n  'engin': True,\n  'india': True,\n  'need': True,\n  'mba': True,\n  'want': True,\n  'move': True,\n  'manag': True},\n {'use': True, 'much': True, 'brain': True, 'power': True},\n {'instead': True,\n  'rd': True,\n  'sharma': True,\n  'exampl': True,\n  'prepar': True,\n  'class': True,\n  '10': True,\n  'board': True},\n {'someon': True, 'settl': True, 'woman': True},\n {'futur': True,\n  'think': True,\n  'requir': True,\n  'cellphon': True,\n  'like': True,\n  'offic': True,\n  'forc': True,\n  'wear': True,\n  'bodycam': True},\n {'holocaust': True, 'stori': True, 'bad': True},\n {'need': True, 'help': True},\n {'anim': True,\n  'speci': True,\n  'earth': True,\n  'decid': True,\n  'wipe': True,\n  'race': True,\n  'would': True,\n  'battl': True,\n  'look': True,\n  'win': True,\n  'includ': True,\n  'human': True},\n {'hillari': True, 'support': True, 'still': True, 'mad': True},\n {'special': True, 'featur': True, 'eleph': True},\n {'success': True,\n  'stori': True,\n  'jee': True,\n  '2017': True,\n  'appear': True,\n  'dropper': True,\n  'pleas': True,\n  'recit': True,\n  'entir': True,\n  'journey': True},\n {'pavement': True, 'mushroom': True, 'report': True, 'india': True},\n {'scientist': True, 'discov': True, 'bodi': True, 'human': True},\n {'song': True, 'want': True, 'funer': True},\n {'snake': True,\n  'bite': True,\n  'mongoos': True,\n  'plant': True,\n  'use': True,\n  'poisson': True},\n {'butthol': True, 'stretch': True},\n {'see': True,\n  'fight': True,\n  'robot': True,\n  'think': True,\n  'terminatorkurata': True,\n  'within': True,\n  'lifetim': True,\n  'effici': True,\n  'compar': True,\n  'current': True,\n  'militari': True,\n  'equip': True},\n {'trump': True, 'invad': True, 'north': True, 'korea': True},\n {'would': True,\n  'payment': True,\n  'clear': True,\n  'trade': True,\n  'earth': True,\n  'interstellar': True,\n  'civil': True},\n {'model': True,\n  'part': True,\n  'realiti': True,\n  'use': True,\n  'partial': True,\n  'deriv': True},\n {'got': True,\n  '50': True,\n  'pound': True,\n  'potato': True,\n  'recommend': True,\n  'cook': True},\n {'cowrot': True,\n  'song': True,\n  'someon': True,\n  'regist': True,\n  'pro': True,\n  'im': True,\n  'problem': True},\n {'millionairesbillionair': True,\n  'support': True,\n  'left': True,\n  'wing': True,\n  'polit': True},\n {'fine': True,\n  'imag': True,\n  'consult': True,\n  'acca': True,\n  'love': True,\n  'help': True,\n  'peopl': True,\n  'make': True,\n  'feel': True,\n  'confid': True,\n  'also': True,\n  'current': True,\n  'want': True,\n  'complet': True},\n {'use': True, 'medic': True, 'model': True, 'psycholog': True},\n {'convinc': True,\n  'peopl': True,\n  'test': True,\n  'claim': True,\n  'god': True,\n  'hyperomnivers': True,\n  'also': True,\n  'physic': True,\n  'immort': True,\n  'im': True,\n  'biolog': True,\n  'origin': True,\n  'supernatur': True,\n  'abil': True,\n  'perman': True},\n {'onlin': True,\n  'cours': True,\n  'pursu': True,\n  'improv': True,\n  'profil': True,\n  'mbamanag': True,\n  'sourc': True,\n  'like': True,\n  'courser': True,\n  'edx': True,\n  'etc': True},\n {'lifetim': True,\n  'proton': True,\n  'less': True,\n  'neutron': True,\n  'possibl': True,\n  'exist': True,\n  'end': True},\n {'bitsat': True, '2017': True, 'cutoff': True, 'lower': True, '2016': True},\n {'know': True, 'cant': True, 'anyth': True},\n {'good': True,\n  'sourc': True,\n  'learn': True,\n  'conservat': True,\n  'defin': True,\n  'us': True,\n  'context': True},\n {'activist': True,\n  'journalist': True,\n  'lie': True,\n  'polit': True,\n  'charg': True,\n  'articl': True,\n  'know': True,\n  'blind': True,\n  'dishonesti': True},\n {'statist': True,\n  'like': True,\n  'die': True,\n  'current': True,\n  'war': True,\n  'british': True,\n  'armi': True},\n {'shanic': True,\n  'laquanda': True,\n  'peterson': True,\n  'strong': True,\n  'name': True,\n  'soontobeborn': True,\n  'daughter': True},\n {'medic': True,\n  'condit': True,\n  'associ': True,\n  'pulsat': True,\n  'sensat': True,\n  'stomach': True},\n {'demand': True,\n  'respect': True,\n  'charter': True,\n  'account': True,\n  'india': True},\n {'book': True, 'best': True, 'clear': True, 'bitsat': True},\n {'person': True,\n  'would': True,\n  'give': True,\n  'friendli': True,\n  'advic': True,\n  'could': True,\n  'go': True,\n  'back': True,\n  'time': True},\n {'work': True, 'princip': True, 'magnet': True, 'levit': True},\n {'driver': True,\n  'licens': True,\n  'suspend': True,\n  'differ': True,\n  'state': True,\n  'mean': True,\n  'pa': True,\n  'im': True,\n  'live': True},\n {'use': True,\n  'tip': True,\n  'someon': True,\n  'start': True,\n  'work': True,\n  'fnb': True},\n {'law': True, 'cours': True, 'record': True},\n {'reflect': True, 'mood': True, 'mean': True},\n {'talk': True, 'polic': True},\n {'juan': True, 'ponc': True, 'de': True, 'leon': True, 'famou': True},\n {'us': True, 'armi': True, 'watch': True, 'mass': True, 'produc': True},\n {'use': True,\n  'aerospac': True,\n  'applic': True,\n  'nonlinear': True,\n  'optim': True,\n  'control': True},\n {'indian': True,\n  'democraci': True,\n  'end': True,\n  'control': True,\n  'israel': True,\n  'intern': True,\n  'bankster': True,\n  'like': True,\n  'america': True},\n {'master': True,\n  'degre': True,\n  'kaluinstituteorg': True,\n  'accredit': True,\n  'recommend': True,\n  'get': True},\n {'best': True,\n  'practic': True,\n  'remedi': True,\n  'kashmir': True,\n  'issu': True},\n {'cat': True, 'like': True, 'lick': True, 'cellophan': True},\n {'correct': True,\n  'name': True,\n  'job': True,\n  'posit': True,\n  'includ': True,\n  'make': True,\n  'brochur': True,\n  'market': True,\n  'materi': True},\n {'wisdom': True,\n  'teeth': True,\n  'top': True,\n  'jaw': True,\n  'caus': True,\n  'maxilla': True,\n  'growth': True},\n {'okay': True,\n  'still': True,\n  'marri': True,\n  'lover': True,\n  'even': True,\n  'dad': True,\n  'doesnt': True,\n  'give': True,\n  'bless': True,\n  'love': True,\n  'feel': True,\n  'cant': True,\n  'without': True},\n {'hope': True,\n  'apocalypt': True,\n  'event': True,\n  'termin': True,\n  'ill': True,\n  'form': True,\n  'suicid': True,\n  'ideat': True},\n {'book': True, 'cryptocurr': True},\n {'atheist': True,\n  'peac': True,\n  'come': True,\n  'kill': True,\n  '100': True,\n  'million': True,\n  'peopl': True},\n {'review': True,\n  'duolingo': True,\n  'french': True,\n  'english': True,\n  'speaker': True,\n  'cours': True},\n {'effect': True,\n  'propel': True,\n  'surviv': True,\n  'solid': True,\n  'liquid': True,\n  'state': True,\n  'venusian': True,\n  'nearvenusian': True,\n  'condit': True},\n {'control': True,\n  'focu': True,\n  'studi': True,\n  'game': True,\n  'entertain': True},\n {'legal': True, 'sex': True, 'goat': True, 'india': True},\n {'good': True, 'woman': True, 'marriag': True},\n {'well': True,\n  'know': True,\n  'math': True,\n  'complet': True,\n  'mits6001x': True,\n  'open': True,\n  'cours': True},\n {'document': True,\n  'sign': True,\n  'cofound': True,\n  'secur': True,\n  'equiti': True,\n  'startup': True,\n  '15': True,\n  '4': True,\n  'year': True,\n  'vest': True,\n  'vs': True,\n  '85': True,\n  'own': True,\n  'invest': True,\n  'scorp': True},\n {'believ': True, 'mari': True},\n {'orbit': True,\n  'black': True,\n  'hole': True,\n  'speed': True,\n  'light': True,\n  'touch': True,\n  'event': True,\n  'horizon': True},\n {'french': True,\n  'cultur': True,\n  'radic': True,\n  'differ': True,\n  'angloamerican': True,\n  'basic': True},\n {'best': True,\n  'place': True,\n  'travel': True,\n  'live': True,\n  'middl': True,\n  'age': True},\n {'differ': True,\n  'centr': True,\n  'mass': True,\n  'graviti': True,\n  'centroid': True},\n {'iss': True, 'sorc': True, 'heat': True, 'light': True},\n {'cost': True,\n  'effici': True,\n  'option': True,\n  'small': True,\n  'chariti': True,\n  'manag': True,\n  'mobil': True,\n  'sm': True,\n  'function': True},\n {'tripl': True, 'talaq': True, 'ban': True, 'india': True},\n {'pimpl': True,\n  'still': True,\n  'pop': True,\n  'even': True,\n  'use': True,\n  'almost': True,\n  'procedur': True},\n {'guy': True, 'think': True, 'educ': True, 'abolish': True, 'terror': True},\n {'academ': True,\n  'pressur': True,\n  'workload': True,\n  'new': True,\n  'york': True,\n  'univers': True,\n  'school': True,\n  'law': True,\n  'like': True},\n {'rise': True,\n  'shia': True,\n  'calif': True,\n  'h': True,\n  'usman': True,\n  'ra': True,\n  'conspiraci': True,\n  'jew': True},\n {'girlfriend': True, 'care': True, 'guy': True},\n {'plato': True, 'big': True, 'believ': True, 'democraci': True},\n {'mani': True,\n  'indian': True,\n  'student': True,\n  'take': True,\n  'sat': True,\n  'india': True,\n  'bangladesh': True,\n  'sri': True,\n  'lanka': True,\n  'pakistan': True},\n {'find': True, 'someon': True, 'invest': True, 'music': True},\n {'differ': True,\n  'stemcel': True,\n  'therapi': True,\n  'prp': True,\n  'inject': True},\n {'ww2': True,\n  'soldier': True,\n  'desert': True,\n  'success': True,\n  'start': True,\n  'new': True,\n  'life': True,\n  'found': True,\n  'month': True,\n  'year': True,\n  'later': True},\n {'overr': True, 'vegetarian': True, 'food': True},\n {'arent': True,\n  'employ': True,\n  'will': True,\n  'pay': True,\n  'good': True,\n  'money': True,\n  'great': True,\n  'potenti': True,\n  'employe': True},\n {'10': True,\n  'interest': True,\n  'thing': True,\n  'must': True,\n  'know': True,\n  'portug': True},\n {'favorit': True, 'quot': True, 'philosophi': True, 'confid': True},\n {'major': True,\n  'polit': True,\n  'parti': True,\n  'spain': True,\n  'popular': True,\n  'biggest': True,\n  'support': True,\n  'proven': True,\n  'corrupt': True,\n  'fascist': True,\n  'origin': True},\n {'anyon': True,\n  'recommend': True,\n  'vr': True,\n  'video': True,\n  'editor': True,\n  'phone': True},\n {'differenti': True, 'addict': True, 'counsel': True, 'guidanc': True},\n {'way': True,\n  'bride': True,\n  'groom': True,\n  'naiv': True,\n  'wed': True,\n  'plan': True,\n  'process': True},\n {'best': True, 'way': True, 'career': True, 'electr': True, 'engin': True},\n {'find': True,\n  'msc': True,\n  'entranc': True,\n  'exam': True,\n  'physic': True,\n  'best': True,\n  'vedio': True,\n  'lectur': True},\n {'kind': True,\n  'program': True,\n  'knowledg': True,\n  'engin': True,\n  'need': True,\n  'work': True,\n  'aerospac': True,\n  'industri': True},\n {'triglycerid': True, 'metabol': True},\n {'lot': True,\n  'anim': True,\n  'need': True,\n  'eat': True,\n  'surviv': True,\n  'right': True,\n  'trend': True,\n  'observ': True,\n  'show': True,\n  'lessmor': True,\n  'happen': True,\n  'last': True,\n  'millenia': True},\n {'recommend': True,\n  'place': True,\n  'visit': True,\n  'sydney': True,\n  '1': True,\n  'day': True,\n  'trip': True},\n {'pioneer': True,\n  'gmd8601': True,\n  'class': True,\n  'mono': True,\n  'amplifi': True,\n  'manufactur': True,\n  'process': True,\n  'improv': True},\n {'compat': True,\n  'life': True,\n  'path': True,\n  '4': True,\n  '5': True,\n  'cancer': True,\n  'leo': True},\n {'main': True, 'drawback': True, 'articl': True, '370': True, '35a': True},\n {'sell': True, 'product': True, 'kijiji': True, 'avoid': True, 'scam': True},\n {'bollywood': True,\n  'star': True,\n  'wear': True,\n  'jacket': True,\n  'winter': True,\n  'cloth': True,\n  'summer': True},\n {'characterist': True, 'good': True, 'electronica': True, 'band': True},\n {'power': True, 'presid': True, 'increas': True, 'year': True},\n {'motiv': True, 'leav': True, 'facebook': True},\n {'block': True, 'knife': True, 'finger': True},\n {'credibl': True,\n  'onlin': True,\n  'mba': True,\n  'program': True,\n  'fort': True,\n  'hay': True,\n  'state': True,\n  'univers': True,\n  'anyon': True,\n  'gain': True,\n  'employ': True,\n  'complet': True},\n {'deaf': True,\n  'peopl': True,\n  'effect': True,\n  'learn': True,\n  'written': True,\n  'languag': True},\n {'recent': True,\n  'competit': True,\n  'focus': True,\n  'deep': True,\n  'learn': True,\n  'neural': True,\n  'network': True,\n  'doesnt': True,\n  'creat': True,\n  'imbal': True,\n  'problem': True,\n  'type': True,\n  'offer': True},\n {'nevada': True,\n  'capit': True,\n  'carson': True,\n  'citi': True,\n  'la': True,\n  'vega': True},\n {'children': True,\n  'like': True,\n  'inherit': True,\n  'person': True,\n  'trait': True,\n  'gender': True,\n  'parent': True},\n {'100': True,\n  'authent': True,\n  'whey': True,\n  'protein': True,\n  'onlin': True,\n  'india': True},\n {'think': True, 'architectur': True, 'wynn': True, 'palac': True},\n {'fix': True,\n  'issu': True,\n  'delet': True,\n  'contact': True,\n  'can': True,\n  'not': True,\n  'readonli': True,\n  'account': True,\n  'hide': True,\n  'list': True},\n {'support': True, 'someon': True, 'cancer': True},\n {'get': True,\n  'internship': True,\n  'compani': True,\n  'differ': True,\n  'countri': True,\n  'recruit': True,\n  'would': True,\n  'alway': True,\n  'prefer': True,\n  'intern': True,\n  'special': True,\n  'third': True},\n {'charact': True,\n  'chang': True,\n  'throughout': True,\n  'novel': True,\n  'freaki': True,\n  'friday': True,\n  'mari': True,\n  'rodger': True},\n {'anim': True,\n  'ever': True,\n  'damag': True,\n  'eyesight': True,\n  'solar': True,\n  'eclips': True},\n {'what': True,\n  'interest': True,\n  'travel': True,\n  'tibet': True,\n  'china': True},\n {'law': True,\n  'good': True,\n  'option': True,\n  'paper': True,\n  'student': True,\n  'upsc': True},\n {'use': True,\n  'tip': True,\n  'student': True,\n  'start': True,\n  'first': True,\n  'semest': True,\n  'washington': True,\n  'state': True},\n {'anyon': True,\n  'success': True,\n  'get': True,\n  'back': True,\n  'ex': True,\n  'dump': True,\n  'use': True,\n  'contact': True,\n  'nc': True,\n  'method': True},\n {'much': True, 'coffe': True, 'drink': True},\n {'get': True,\n  'free': True,\n  'lie': True,\n  'detect': True,\n  'class': True,\n  'onlin': True},\n {'44': True,\n  'northern': True,\n  'ireland': True,\n  'vote': True,\n  'leav': True,\n  'eu': True},\n {'possibl': True,\n  'marin': True,\n  'engin': True,\n  'cours': True,\n  'complet': True,\n  'metallurg': True,\n  'india': True},\n {'cost': True,\n  '3': True,\n  'bhk': True,\n  'flat': True,\n  'rent': True,\n  'fort': True,\n  'oliv': True,\n  'height': True,\n  'sector': True,\n  '56': True,\n  'gurgaon': True},\n {'know': True, 'oppon': True, 'advertis': True, 'facebook': True},\n {'tell': True, 'best': True, 'friend': True, 'feel': True},\n {'exampl': True, 'latin': True, 'phrase': True, 'god': True},\n {'econom': True, 'place': True, 'world': True},\n {'“': True,\n  'cuddl': True,\n  'buddi': True,\n  '”': True,\n  'thing': True,\n  'work': True},\n {'presid': True,\n  'unit': True,\n  'state': True,\n  'impact': True,\n  'advanc': True,\n  'technolog': True},\n {'mani': True,\n  'hour': True,\n  'studi': True,\n  'daili': True,\n  'mbb': True,\n  '1st': True,\n  'year': True},\n {'treat': True, 'green': True, 'mucu': True, 'back': True, 'throat': True},\n {'lao': True, 'stop': True, 'communist': True, '2030': True},\n {'graduat': True,\n  'student': True,\n  'elig': True,\n  'appli': True,\n  'manag': True,\n  'traine': True,\n  'electron': True,\n  'bharat': True,\n  'dynam': True,\n  'limit': True},\n {'would': True,\n  'explain': True,\n  'human': True,\n  'network': True,\n  'newbi': True},\n {'largest': True, 'air': True, 'forc': True, 'base': True, 'world': True},\n {'term': True, 'githubmicrosoft': True, 'deal': True},\n {'add': True, 'someon': True, 'twitter': True, 'account': True},\n {'still': True,\n  'get': True,\n  'lot': True,\n  'push': True,\n  'back': True,\n  'doctor': True,\n  'nutritionist': True},\n {'assum': True, 'peopl': True, 'hate': True, 'reason': True, 'loser': True},\n {'parent': True, 'keep': True, 'enter': True, 'room': True, 'time': True},\n {'mean': True,\n  'fake': True,\n  'document': True,\n  'open': True,\n  'paypal': True,\n  'account': True,\n  'regist': True,\n  'compani': True},\n {'caus': True, 'red': True, 'dot': True, 'face': True},\n {'differenti': True,\n  'someon': True,\n  'look': True,\n  'like': True,\n  'prefer': True,\n  'alon': True,\n  'might': True,\n  'want': True,\n  'interact': True},\n {'innov': True,\n  'product': True,\n  'make': True,\n  'ride': True,\n  'two': True,\n  'wheeler': True,\n  'india': True,\n  'comfort': True},\n {'presid': True, 'head': True, 'state': True},\n {'would': True,\n  'win': True,\n  'current': True,\n  'naruto': True,\n  'six': True,\n  'path': True,\n  'madara': True,\n  'fight': True},\n {'kind': True,\n  'deep': True,\n  'learn': True,\n  'approach': True,\n  'use': True,\n  'compar': True,\n  'embed': True,\n  'two': True,\n  'differ': True,\n  'domain': True,\n  'word': True,\n  'vector': True,\n  'imag': True},\n {'correl': True,\n  'personalsoci': True,\n  'ident': True,\n  'act': True,\n  'cheat': True},\n {'opinion': True, 'arsenalfantv': True},\n {'ma': True, 'moustafa': True, 'golub': True},\n {'get': True, 'trade': True, 'debit': True, 'money': True},\n {'nlp': True, 'improv': True, 'qualiti': True, 'life': True},\n {'sentenc': True,\n  'correct': True,\n  'didnt': True,\n  'make': True,\n  'mistak': True,\n  'made': True},\n {'mail': True,\n  'van': True,\n  'ac': True,\n  '120': True,\n  'degre': True,\n  'phoenix': True,\n  'feel': True,\n  'sad': True,\n  'usp': True,\n  'driver': True},\n {'impact': True,\n  'would': True,\n  'caus': True,\n  'major': True,\n  'state': True,\n  'like': True,\n  'maharashtra': True,\n  'new': True,\n  'delhi': True,\n  'bihari': True,\n  'up': True,\n  'migrat': True,\n  'back': True,\n  'respect': True},\n {'origin': True,\n  'pronunci': True,\n  'confuciu': True,\n  'chines': True,\n  'languag': True},\n {'bitmoji': True,\n  'look': True,\n  'like': True,\n  'would': True,\n  'consid': True,\n  'sort': True,\n  'face': True,\n  'reveal': True},\n {'caus': True, 'peni': True, 'get': True, 'hard': True, 'vagina': True},\n {'peopl': True,\n  'asperg': True,\n  'syndrom': True,\n  'hate': True,\n  'small': True,\n  'interest': True},\n {'start': True, 'want': True, 'becom': True, 'writer': True},\n {'often': True,\n  'ground': True,\n  'level': True,\n  'event': True,\n  'occur': True,\n  'solar': True,\n  'flare': True},\n {'word': True, 'contain': True},\n {'treat': True, 'deep': True, 'sinu': True, 'infect': True},\n {'inform': True, 'letter': True},\n {'benefit': True,\n  'score': True,\n  'good': True,\n  'mark': True,\n  'acca': True,\n  'exam': True,\n  'rather': True,\n  'pass': True},\n {'hotel': True, 'maxim': True, 'ota': True, 'book': True},\n {'quora': True, 'famou': True},\n {'music': True,\n  'sometim': True,\n  'judg': True,\n  'pleasant': True,\n  'sound': True,\n  'theori': True,\n  'rule': True,\n  'creativ': True},\n {'86': True,\n  'cgpa': True,\n  'good': True,\n  'score': True,\n  '10th': True,\n  'std': True},\n {'eye': True, 'cream': True, 'manufactur': True},\n {'know': True, 'self': True, 'awar': True},\n {'think': True,\n  'keerthi': True,\n  'suresh': True,\n  'beauti': True,\n  'south': True,\n  'indian': True,\n  'actress': True,\n  'ever': True},\n {'low': True,\n  'pressur': True,\n  'area': True,\n  'pole': True,\n  'shouldnt': True,\n  'high': True,\n  'air': True,\n  'would': True,\n  'denser': True,\n  'surround': True},\n {'prime': True,\n  'minist': True,\n  'justin': True,\n  'trudeau': True,\n  'send': True,\n  'clear': True,\n  'messag': True,\n  'kim': True,\n  'jongun': True,\n  'push': True,\n  'around': True,\n  'presid': True,\n  'donald': True,\n  'trump': True,\n  'soon': True,\n  'invit': True,\n  'guest': True,\n  'got': True,\n  'air': True,\n  'forc': True,\n  'one': True},\n {'paragraph': True, 'structur': True},\n {'littl': True,\n  'hatr': True,\n  'muslim': True,\n  'compar': True,\n  'lower': True,\n  'cast': True,\n  'india': True},\n {'africa': True,\n  'blame': True,\n  'tran': True,\n  'atlant': True,\n  'slave': True,\n  'trade': True},\n {'teach': True,\n  'lesson': True,\n  'stupid': True,\n  'driver': True,\n  'stop': True,\n  'red': True,\n  'signal': True,\n  'policeman': True},\n {'differ': True, 'normal': True, 'shock': True, 'obliqu': True},\n {'two': True,\n  'world': True,\n  'zero': True,\n  'sword': True,\n  'art': True,\n  'onlin': True,\n  'fight': True,\n  'manner': True,\n  'war': True,\n  'win': True},\n {'best': True, 'romant': True, 'engin': True, 'stori': True},\n {'waterproof': True,\n  'marker': True,\n  'work': True,\n  'chromatographi': True,\n  'experi': True},\n {'choos': True, 'purdu': True, 'univers': True},\n {'find': True,\n  'marketingadvertis': True,\n  'statist': True,\n  'like': True,\n  'dma': True,\n  'factbook': True},\n {'much': True,\n  'money': True,\n  'make': True,\n  'instructor': True,\n  'udemi': True,\n  '10': True,\n  'program': True,\n  'relat': True,\n  'cours': True},\n {'canada': True, 'tax': True, 'return': True, 'form': True},\n {'stress': True,\n  'anxieti': True,\n  'medic': True,\n  'avail': True,\n  'counter': True,\n  'india': True},\n {'wolf': True},\n {'known': True,\n  'japanes': True,\n  'troubl': True,\n  'pronounc': True,\n  'english': True,\n  'word': True,\n  'l': True,\n  'sound': True,\n  'asian': True,\n  'languag': True,\n  'speaker': True,\n  'problem': True},\n {'often': True,\n  'tourist': True,\n  'buy': True,\n  'vacat': True,\n  'packag': True,\n  'dmc': True,\n  'compani': True,\n  'websit': True,\n  'worth': True,\n  'bet': True,\n  'lot': True,\n  'money': True,\n  'onlin': True,\n  'advertis': True,\n  'campaign': True},\n {'possibl': True,\n  'free': True,\n  'run': True,\n  'good': True,\n  'ezio': True,\n  'auditor': True,\n  'assassin': True,\n  'creed': True},\n {'mean': True, 'see': True, 'lover': True, 'dream': True},\n {'fund': True,\n  'higher': True,\n  'manag': True,\n  'educ': True,\n  'crowdfund': True,\n  'girl': True,\n  'sell': True,\n  'virgin': True,\n  'men': True},\n {'use': True,\n  'googl': True,\n  'chart': True,\n  'data': True,\n  'fetch': True,\n  'mysql': True,\n  'databas': True,\n  'host': True,\n  'aw': True},\n {'human': True, 'get': True, 'extinct': True},\n {'sum': True, 'filter': True, 'data': True, 'excel': True},\n {'got': True,\n  '78': True,\n  'hsc': True,\n  'board': True,\n  '87': True,\n  'mark': True,\n  'mhtcet': True,\n  'chanc': True,\n  'get': True,\n  'cse': True,\n  'decent': True,\n  'colleg': True,\n  'mumbai': True},\n {'get': True,\n  'better': True,\n  'price': True,\n  'new': True,\n  'car': True,\n  'dealership': True,\n  'pay': True,\n  'cash': True},\n {'children': True, 'build': True, 'mobil': True, 'app': True},\n {'woman': True,\n  'carri': True,\n  'aid': True,\n  'transmit': True,\n  'anal': True,\n  'sex': True},\n {'chang': True,\n  'pictur': True,\n  'quora': True,\n  'allow': True,\n  'share': True,\n  'wish': True,\n  'experi': True,\n  'come': True,\n  'weird': True,\n  'robot': True,\n  'pizza': True,\n  'two': True,\n  'peopl': True,\n  'kiss': True,\n  'one': True,\n  'big': True,\n  'collag': True},\n {'plant': True, 'reproduc': True, 'stem': True, 'name': True, '9': True},\n {'india': True, 'father': True, 'china': True},\n {'what': True,\n  'current': True,\n  'fd': True,\n  'interest': True,\n  'rate': True,\n  'sbi': True,\n  'offer': True},\n {'kiss': True, 'suppos': True, 'reach': True, 'breast': True},\n {'dont': True,\n  'nepales': True,\n  'peopl': True,\n  'understand': True,\n  'chines': True,\n  'agent': True,\n  'nepal': True,\n  'burn': True,\n  'ground': True,\n  'govern': True,\n  'even': True,\n  'hint': True,\n  'possibl': True,\n  'seriou': True,\n  'friendship': True,\n  'india': True},\n {'write': True,\n  'resum': True,\n  'explain': True,\n  'gap': True,\n  'employ': True,\n  'ive': True,\n  'unabl': True,\n  'work': True,\n  'two': True,\n  'year': True,\n  'due': True,\n  'ill': True,\n  'im': True,\n  'much': True,\n  'better': True,\n  'readi': True,\n  'read': True,\n  'dont': True,\n  'want': True,\n  'hire': True,\n  'someon': True,\n  'that': True,\n  'medic': True,\n  'issu': True},\n {'best': True, 'beach': True, 'us': True, 'vacat': True},\n {'would': True,\n  'win': True,\n  'fight': True,\n  'lord': True,\n  'voldemort': True,\n  'glaurung': True,\n  'dragon': True,\n  'consid': True,\n  'achiev': True,\n  'silmarillion': True,\n  'either': True,\n  'oneonon': True,\n  'singlehandedli': True,\n  'entir': True,\n  'death': True,\n  'eater': True,\n  'armi': True},\n {'brother': True,\n  'think': True,\n  'hat': True,\n  'watch': True,\n  'cabl': True,\n  'tv': True,\n  'mess': True,\n  'wifi': True},\n {'make': True, 'googl': True, 'index': True, 'page': True, 'faster': True},\n {'udac': True, 'ai': True, 'cours': True, 'free': True, 'watch': True},\n {'buddhism': True,\n  'happen': True,\n  'conscious': True,\n  'death': True,\n  'reincarn': True},\n {'preteen': True,\n  'allow': True,\n  'use': True,\n  'internet': True,\n  'privat': True},\n {'im': True,\n  '11': True,\n  'year': True,\n  'old': True,\n  'child': True,\n  'addict': True,\n  'like': True,\n  'boy': True,\n  'normal': True},\n {'first': True, 'becom': True, 'involv': True, 'polyamori': True},\n {'san': True,\n  'jose': True,\n  'buy': True,\n  'flat': True,\n  'razor': True,\n  'blade': True,\n  'like': True,\n  'one': True,\n  'link': True},\n {'women': True, 'realli': True, 'enjoy': True, 'ass': True, 'lick': True},\n {'marri': True, 'guy': True, 'cheat': True, 'broken': True, 'trust': True},\n {'im': True,\n  '26': True,\n  'current': True,\n  'work': True,\n  'account': True,\n  'mnc': True,\n  'somehow': True,\n  'last': True,\n  'month': True,\n  'loos': True,\n  'interest': True,\n  'profil': True,\n  'chang': True},\n {'equival': True, '1099': True, 'canada': True},\n {'peopl': True,\n  'countri': True,\n  'dont': True,\n  'use': True,\n  'social': True,\n  'media': True,\n  'much': True,\n  'think': True,\n  'india': True},\n {'payment': True,\n  'rate': True,\n  'bed': True,\n  'roll': True,\n  'garib': True,\n  'rath': True,\n  '3rd': True,\n  'ac': True,\n  'coach': True},\n {'want': True,\n  'take': True,\n  'photographi': True,\n  'profess': True,\n  'studi': True,\n  'ug': True},\n {'best': True,\n  'privat': True,\n  'medic': True,\n  'colleg': True,\n  'dehradun': True},\n {'underground': True,\n  'bunker': True,\n  'content': True,\n  'still': True,\n  'safe': True,\n  'billion': True,\n  'year': True},\n {'start': True,\n  'chariti': True,\n  'refurbish': True,\n  'laptop': True,\n  'underprivileg': True,\n  'kid': True},\n {'onlin': True,\n  'certif': True,\n  'cours': True,\n  'digit': True,\n  'market': True,\n  'help': True,\n  'get': True,\n  'job': True,\n  'field': True},\n {'best': True, 'place': True, 'live': True, 'eronga': True},\n {'countri': True, 'govern': True, 'system': True, 'becam': True},\n {'cast': True, 'surnam': True, 'rijiya': True},\n {'differ': True,\n  'normal': True,\n  'vehicl': True,\n  'loan': True,\n  'hire': True,\n  'purchas': True},\n {'classic': True,\n  'joke': True,\n  'sikh': True,\n  'muslim': True,\n  'punjabi': True},\n {'problem': True,\n  'face': True,\n  'india': True,\n  'demonetis': True,\n  'solv': True},\n {'ching': True, 'chang': True, 'chong': True, 'rais': True},\n {'determin': True,\n  'valu': True,\n  'undat': True,\n  'buffalo': True,\n  'nickel': True},\n {'easi': True,\n  'show': True,\n  'love': True,\n  'care': True,\n  'peopl': True,\n  'u': True,\n  'dont': True},\n {'mom': True, 'samurai': True, 'hairlin': True},\n {'guy': True,\n  'angri': True,\n  'anoth': True,\n  'throw': True,\n  'jab': True,\n  'duck': True,\n  'hit': True,\n  'would': True,\n  'situat': True},\n {'chang': True,\n  'time': True,\n  'take': True,\n  'hormon': True,\n  'effect': True,\n  'i': True,\n  '’': True,\n  'm': True,\n  'almost': True,\n  'two': True,\n  'month': True,\n  'hrt': True,\n  'tire': True,\n  'wake': True,\n  '530am': True,\n  'move': True,\n  'least': True,\n  '630am': True},\n {'hardest': True, 'thu': True, 'ever': True, 'done': True},\n {'would': True,\n  'better': True,\n  'minor': True,\n  'take': True,\n  'electr': True,\n  'comput': True,\n  'engin': True,\n  'scienc': True},\n {'possibl': True,\n  'abl': True,\n  'transcrib': True,\n  'thought': True,\n  'without': True,\n  'speak': True,\n  'write': True},\n {'maxim': True,\n  'yield': True,\n  'grow': True,\n  'marijuana': True,\n  'insid': True},\n {'intercours': True},\n {'best': True,\n  'equal': True,\n  'set': True,\n  'sennheis': True,\n  'cx': True,\n  '213': True},\n {'anim': True, 'found': True, 'tropic': True, 'decidu': True, 'forest': True},\n {'cure': True, 'deperson': True},\n {'travel': True, 'franc': True},\n {'becom': True,\n  'distributor': True,\n  'hindustan': True,\n  'unilev': True,\n  'limit': True,\n  'product': True},\n {'studi': True, 'academ': True, 'stock': True, 'market': True, 'trade': True},\n {'default': True,\n  'annual': True,\n  'hike': True,\n  'ase': True,\n  'join': True,\n  'novemb': True,\n  '2016': True,\n  'without': True,\n  'promot': True,\n  'se': True},\n {'smartphon': True,\n  'aesthet': True,\n  'like': True,\n  'save': True,\n  'contact': True,\n  'capit': True,\n  'letter': True,\n  'first': True,\n  'name': True},\n {'merg': True,\n  'two': True,\n  'facebook': True,\n  'page': True,\n  'differ': True,\n  'account': True,\n  'one': True},\n {'date': True, 'big': True, 'girl': True},\n {'japan': True, 'want': True, 'kill': True, 'jewish': True},\n {'best': True, 'selfi': True, 'stick': True, 'smartphon': True},\n {'choos': True, 'quora': True, 'search': True, 'engin': True},\n {'whatt': True, 'price': True, 'water': True, 'capac': True},\n {'consum': True,\n  'achiv': True,\n  'equilibrium': True,\n  'given': True,\n  'indiffer': True,\n  'curv': True,\n  'budget': True,\n  'line': True},\n {'took': True,\n  'emerg': True,\n  'contracept': True,\n  'unprotect': True,\n  'sex': True,\n  'could': True,\n  'pregnant': True},\n {'differ': True, 'pg': True, 'inter': True, 'colleg': True},\n {'increas': True,\n  'distanc': True,\n  'two': True,\n  'mate': True,\n  'gear': True,\n  'doesnt': True,\n  'affect': True,\n  'veloc': True,\n  'ratio': True,\n  'power': True,\n  'transmiss': True,\n  'like': True,\n  'sugarcan': True,\n  'crusher': True,\n  'machin': True},\n {'snack': True, 'lay': True, 'egg': True},\n {'chest': True, 'pain': True},\n {'routin': True, 'work': True, 'nun': True, 'isha': True, 'foundat': True},\n {'caus': True, 'bump': True, 'cartilag': True, 'pierc': True},\n {'harvey': True,\n  'weinstein': True,\n  'known': True,\n  'clinton': True,\n  'support': True,\n  'also': True,\n  'busi': True,\n  'tie': True,\n  'trump': True},\n {'one': True,\n  'thing': True,\n  'think': True,\n  'make': True,\n  'differ': True,\n  'rest': True},\n {'thermal': True, 'bucket': True},\n {'allow': True,\n  'regular': True,\n  'cours': True,\n  'mcom': True,\n  'probat': True,\n  'period': True},\n {'trump': True, 'support': True, 'feel': True, 'con': True},\n {'get': True,\n  'accept': True,\n  'mba': True,\n  'program': True,\n  'comput': True,\n  'scienc': True,\n  'work': True,\n  'experi': True,\n  'academ': True,\n  'background': True,\n  'could': True},\n {'indonesian': True, 'pn': True, 'member': True, 'quora': True},\n {'ever': True,\n  'time': True,\n  'half': True,\n  'peopl': True,\n  'world': True,\n  'asleep': True,\n  '400am': True,\n  'utc': True,\n  '8': True,\n  'china': True,\n  '50': True,\n  'popul': True,\n  'hour': True,\n  '1200am': True,\n  '500am': True},\n {'score': True, '90200': True, 'nata': True, '2018': True, 'qualifi': True},\n {'best': True, 'way': True, 'remov': True, 'poverti': True, 'india': True},\n {'lion': True,\n  'call': True,\n  'king': True,\n  'forest': True,\n  'even': True,\n  'wolf': True,\n  'intellig': True,\n  'eleph': True,\n  'power': True,\n  'deer': True,\n  'run': True,\n  'fastest': True},\n {'instal': True,\n  'window': True,\n  '7': True,\n  'lenovo': True,\n  'ideapad': True,\n  '110151br': True,\n  'set': True},\n {'fail': True,\n  'one': True,\n  'subject': True,\n  'ba': True,\n  'programm': True,\n  '3rd': True,\n  'year': True,\n  'shall': True,\n  'fill': True,\n  'form': True,\n  'tha': True,\n  'univers': True},\n {'own': True, 'biggest': True, 'llc': True, 'america': True},\n {'virtual': True, 'disorgan': True},\n {'kind': True,\n  'android': True,\n  'devic': True,\n  'compat': True,\n  'vulkan': True},\n {'could': True,\n  'machin': True,\n  'learn': True,\n  'best': True,\n  'appli': True,\n  'onlin': True,\n  'date': True,\n  'app': True},\n {'weight': True, 'averag': True, 'cost': True, 'method': True},\n {'gender': True, 'pay': True, 'gap': True, 'nz': True, '2018': True},\n {'behavior': True, 'treatment': True, 'hepat': True, 'c': True},\n {'mani': True,\n  'time': True,\n  'musi': True,\n  'use': True,\n  'betnov': True,\n  'n': True,\n  'crem': True,\n  'heal': True,\n  'skin': True},\n {'make': True, 'one': True, 'compet': True, 'electrician': True},\n {'archimed': True, 'purpos': True, 'life': True},\n {'jewish': True, 'men': True, 'wear': True, 'tzitzit': True, 'religi': True},\n {'nhai': True,\n  '–': True,\n  'advanc': True,\n  'traffic': True,\n  'manag': True,\n  'system': True},\n {'find': True, 'download': True, 'youtub': True, 'video': True},\n {'mean': True, 'account': True, 'standard': True},\n {'gorilla': True, 'choke': True, 'anim': True, 'death': True},\n {'true': True,\n  'islam': True,\n  'holiest': True,\n  'shrine': True,\n  'mecca': True,\n  'kaaba': True,\n  'none': True,\n  'shivlinga': True},\n {'move': True,\n  'know': True,\n  'girlfriend': True,\n  'get': True,\n  'marriag': True,\n  'within': True,\n  '2': True,\n  'month': True},\n {'lawrenc': True,\n  'zarian': True,\n  'major': True,\n  'accomplish': True,\n  'actor': True},\n {'educ': True, 'impact': True, 'counter': True, 'reform': True},\n {'mechan': True, 'iit': True, 'bhu': True, 'good': True},\n {'use': True, 'laptop': True, 'cse': True, 'student': True, 'india': True},\n {'miui': True, '9': True, 'emui': True, '51': True},\n {'best': True, 'detect': True, 'game': True},\n {'refer': True, 'book': True, 'i': True, 'civil': True, 'engin': True},\n {'commun': True, 'vital': True, 'daili': True, 'live': True},\n {'topper': True,\n  'iit': True,\n  'want': True,\n  'take': True,\n  'cs': True,\n  'inspit': True,\n  'know': True,\n  'anyth': True},\n {'philosophi': True,\n  'articul': True,\n  'altern': True,\n  'metaphys': True,\n  'given': True,\n  'term': True,\n  'ontolog': True,\n  'refer': True,\n  'conceptu': True,\n  'philosoph': True,\n  'concept': True,\n  'repres': True,\n  'becom': True},\n {'what': True, 'like': True, 'rich': True, 'usa': True},\n {'danger': True, 'fast': True, 'heart': True, 'rate': True},\n {'done': True},\n {'go': True,\n  'su': True,\n  'homeown': True,\n  'danger': True,\n  'step': True,\n  'fell': True,\n  'yesterday': True},\n {'japan': True, 'invest': True, 'much': True, 'india': True},\n {'effect': True, 'economi': True, 'war': True, 'marawi': True},\n {'ect': True,\n  'make': True,\n  'physic': True,\n  'structur': True,\n  'chang': True,\n  'part': True,\n  'brain': True},\n {'much': True, 'gst': True, 'import': True, 'shoe': True, 'china': True},\n {'white': True,\n  'american': True,\n  'women': True,\n  'behav': True,\n  'like': True,\n  'pie': True,\n  'movi': True},\n {'sachin': True, 'tendulkar': True, 'match': True, 'winner': True},\n {'remov': True, 'macro': True, 'excel': True},\n {'peopl': True, 'stop': True, 'learn': True},\n {'christian': True, 'mild': True, 'form': True, 'mental': True, 'ill': True},\n {'good': True,\n  'way': True,\n  'use': True,\n  'get': True,\n  'rid': True,\n  'old': True,\n  'burn': True,\n  'scar': True},\n {'us': True,\n  'steal': True,\n  'ip': True,\n  'chines': True,\n  'silicon': True,\n  'valley': True,\n  'research': True,\n  'institut': True,\n  'snowden': True,\n  'reveal': True},\n {'tell': True,\n  'ex': True,\n  'boyfriend': True,\n  'im': True,\n  'pregnant': True,\n  'child': True},\n {'studi': True,\n  'iit': True,\n  'difficult': True,\n  'reserv': True,\n  'categori': True},\n {'big': True,\n  'fleet': True,\n  'allianc': True,\n  'capit': True,\n  'ship': True,\n  'would': True,\n  'taken': True,\n  'destroy': True,\n  'first': True,\n  'death': True,\n  'star': True},\n {'experi': True, '1st': True, 'year': True, 'mbb': True, 'student': True},\n {'aerial': True,\n  'bomb': True,\n  'campaign': True,\n  'occur': True,\n  'outsid': True,\n  'western': True,\n  'front': True,\n  'countri': True,\n  'wwi': True,\n  'would': True,\n  'exampl': True},\n {'consid': True, 'abil': True},\n {'whenev': True,\n  '16': True,\n  'girl': True,\n  'get': True,\n  'argument': True,\n  'mom': True,\n  'start': True,\n  'say': True,\n  'look': True,\n  'ugli': True,\n  'make': True,\n  'upset': True,\n  'usual': True,\n  'keep': True,\n  'cri': True,\n  'doesnt': True,\n  'take': True,\n  'long': True,\n  'im': True,\n  'sensit': True,\n  'normal': True,\n  'behavior': True,\n  'parent': True},\n {'would': True,\n  'girl': True,\n  'give': True,\n  'fake': True,\n  'name': True,\n  'real': True,\n  'number': True},\n {'mean': True, 'strawberri': True, 'float': True, 'top': True, 'water': True},\n {'embarrass': True, 'question': True, 'answer': True, 'quora': True},\n {'diet': True,\n  'replac': True,\n  'convent': True,\n  'stay': True,\n  'healthi': True},\n {'minimum': True,\n  'limit': True,\n  'experi': True,\n  'data': True,\n  'figur': True,\n  'requir': True,\n  'publish': True,\n  'manuscript': True,\n  'small': True,\n  'research': True,\n  'paper': True},\n {'certif': True, 'datacamp': True, 'free': True, 'cours': True},\n {'best': True,\n  'compani': True,\n  'join': True,\n  'globant': True,\n  'xoriant': True},\n {'neg': True,\n  'effect': True,\n  'healthi': True,\n  'individu': True,\n  'eat': True,\n  'much': True,\n  'protein': True,\n  'day': True},\n {'ultrasound': True,\n  'help': True,\n  'gynecologist': True,\n  'detect': True,\n  'polycyst': True,\n  'ovari': True},\n {'didnt': True,\n  'thano': True,\n  'abl': True,\n  'stop': True,\n  'stormbreak': True,\n  'even': True,\n  'infin': True,\n  'gauntlet': True},\n {'donald': True, 'trump': True, 'next': True},\n {'freez': True, 'someon': True, 'bank': True, 'account': True},\n {'gujarati': True, 'hindi': True, 'mutual': True, 'intelligbl': True},\n {'reappli': True, 'medic': True, 'school': True},\n {'differ': True, 'cat': True, 'exam': True, 'gate': True},\n {'disadvantag': True, 'wear': True, 'contact': True, 'lens': True},\n {'percentag': True,\n  'need': True,\n  'get': True,\n  '3': True,\n  'ap': True,\n  'chemistri': True,\n  'test': True},\n {'would': True,\n  'like': True,\n  'know': True,\n  'intel': True,\n  'pentium': True,\n  'g4560': True,\n  'compat': True,\n  'gtx': True,\n  '750': True,\n  'ti': True,\n  'ye': True,\n  'run': True,\n  'game': True,\n  'gta': True,\n  '5': True},\n {'best': True, 'easi': True, 'use': True, 'selfhost': True, 'crm': True},\n {'would': True,\n  'way': True,\n  'measur': True,\n  'economi': True,\n  'equal': True,\n  'well': True,\n  'serv': True,\n  'peopl': True,\n  'gdp': True},\n {'good': True, 'movi': True, 'peopl': True, 'never': True, 'heard': True},\n {'jeremi': True,\n  'axel': True,\n  'look': True,\n  'like': True,\n  'bum': True,\n  'hole': True},\n {'morgoth': True,\n  'rise': True,\n  'valar': True,\n  'tri': True,\n  'corrupt': True,\n  'elv': True,\n  'think': True,\n  'would': True,\n  'stay': True,\n  'middl': True,\n  'earth': True,\n  'prosper': True,\n  'age': True,\n  'come': True,\n  'alongsid': True,\n  'men': True},\n {'best': True, 'raw': True, 'pictur': True, 'viewer': True},\n {'rabbit': True, 'suddenli': True, 'die': True},\n {'import': True, 'qualiti': True, 'infrastructur': True, 'trade': True},\n {'nurs': True, 'pay': True, 'union': True, 'due': True},\n {'job': True,\n  'like': True,\n  'strateg': True,\n  'busi': True,\n  'develop': True,\n  'manag': True},\n {'good': True,\n  'econom': True,\n  'treatment': True,\n  'old': True,\n  'deep': True,\n  'acn': True,\n  'scar': True},\n {'guid': True, 'principl': True, 'minimalistminim': True},\n {'start': True,\n  'dollar': True,\n  'store': True,\n  'busi': True,\n  'practic': True,\n  'money': True,\n  '…with': True,\n  'terribl': True,\n  'credit': True},\n {'debeer': True,\n  'cartel': True,\n  'exist': True,\n  'much': True,\n  'lower': True,\n  'would': True,\n  'diamond': True,\n  'free': True,\n  'market': True},\n {'secretli': True, 'relat': True, 'darth': True, 'vader': True},\n {'increas': True, 'height': True, '22': True},\n {'men': True,\n  'today': True,\n  'wear': True,\n  'tight': True,\n  'pantyhos': True,\n  'women': True,\n  'mind': True},\n {'prove': True, 'didnt': True, 'plagiar': True},\n {'procedur': True,\n  'homeoallounanisiddha': True,\n  'carri': True,\n  'medicin': True,\n  'san': True,\n  'francisco': True,\n  'us': True,\n  'india': True},\n {'electromagnet': True, 'radiat': True},\n {'structur': True, 'ug': True, 'pet': True, 'mitsom': True},\n {'film': True,\n  'misalign': True,\n  'light': True,\n  'sensit': True,\n  'part': True,\n  'expos': True,\n  'half': True,\n  'apertur': True},\n {'easi': True,\n  'boy': True,\n  'move': True,\n  'relationship': True,\n  'hard': True,\n  'girl': True,\n  'friendboy': True,\n  'love': True,\n  'deepli': True,\n  'thought': True,\n  'quickli': True,\n  'tri': True,\n  'talk': True,\n  'block': True,\n  'die': True},\n {'ever': True, 'experi': True, 'older': True, 'woman': True},\n {'trump': True,\n  'threat': True,\n  'withhold': True,\n  'aid': True,\n  'help': True,\n  'worsen': True,\n  'nikki': True,\n  'haley': True,\n  'name': True,\n  'take': True,\n  'ploy': True},\n {'rape': True, 'girl': True, 'special': True, 'crime': True},\n {'desir': True,\n  'special': True,\n  'recogn': True,\n  'thu': True,\n  'univers': True,\n  'human': True},\n {'got': True,\n  '139': True,\n  'mark': True,\n  'muoet': True,\n  '2017': True,\n  'get': True,\n  'cse': True},\n {'sudhanshu': True,\n  'trivedi': True,\n  'bjp': True,\n  'leader': True,\n  'present': True,\n  'delhi': True,\n  'airport': True,\n  '26': True,\n  'aug': True,\n  '2017': True,\n  '10': True,\n  'saw': True,\n  'similar': True,\n  'look': True,\n  'person': True,\n  'couldnt': True,\n  'confirm': True,\n  'whether': True,\n  'someon': True,\n  'els': True},\n {'mathemat': True, 'learn': True, 'path': True, 'like': True},\n {'differ': True, 'american': True, 'australian': True, 'accent': True},\n {'specif': True,\n  'evid': True,\n  'show': True,\n  'expens': True,\n  'cat': True,\n  'food': True,\n  'better': True,\n  'cheaper': True,\n  'option': True,\n  'like': True,\n  'chow': True,\n  '9': True,\n  'live': True},\n {'famou': True, 'peopl': True, 'born': True, '1999': True},\n {'possibl': True,\n  'compos': True,\n  'good': True,\n  'song': True,\n  'fl': True,\n  'studio': True,\n  'without': True,\n  'pay': True},\n {'life': True, 'lesson': True, 'learn': True, 'akshay': True, 'kumar': True},\n {'would': True,\n  'take': True,\n  'bashar': True,\n  'alassad': True,\n  'indict': True,\n  'human': True,\n  'right': True,\n  'abus': True},\n {'breast': True, 'secondari': True, 'sex': True, 'organ': True},\n {'darkest': True, 'thing': True, 'youv': True, 'ever': True, 'heard': True},\n {'differ': True,\n  'kernel': True,\n  'pca': True,\n  'classic': True,\n  'md': True,\n  'pcoa': True},\n {'time': True, 'end': True, 'relationship': True},\n {'height': True,\n  'gap': True,\n  'male': True,\n  'femal': True,\n  'human': True,\n  'chang': True,\n  'prehistor': True,\n  'time': True,\n  'present': True},\n {'movi': True,\n  'good': True,\n  'kid': True,\n  'old': True,\n  'shoild': True,\n  'see': True},\n {'cool': True, 'modif': True, 'made': True, 'bicycl': True},\n {'benefit': True, 'use': True, 'french': True, 'curv': True, 'draw': True},\n {'buy': True, 'rope': True, 'charpoy': True, 'bangalor': True},\n {'start': True, 'date': True, 'women': True, 'stop': True, 'loner': True},\n {'mani': True,\n  'hour': True,\n  'u': True,\n  'grad': True,\n  'student': True,\n  'realli': True,\n  'work': True,\n  'focu': True,\n  'product': True},\n {'motiv': True, 'work': True, 'feel': True, 'dull': True},\n {'start': True, 'newbi': True, 'wikipedia': True, 'editor': True},\n {'colleg': True, 'jeannett': True, 'wall': True, 'attend': True},\n {'charg': True,\n  'sampl': True,\n  'place': True,\n  'electr': True,\n  'field': True,\n  'two': True,\n  'electrod': True,\n  'forc': True,\n  'exert': True,\n  'direct': True,\n  'perpendicular': True,\n  'equipotenti': True,\n  'line': True},\n {'ro': True,\n  'water': True,\n  'purifi': True,\n  'home': True,\n  'ensur': True,\n  'proper': True,\n  'function': True},\n {'dog': True, 'pet': True, 'die': True, 'young': True},\n {'hedg': True,\n  'fund': True,\n  'actual': True,\n  'happen': True,\n  'manag': True,\n  'compani': True},\n {'safest': True, 'car': True, 'frontal': True, 'collis': True},\n {'factor': True,\n  'affect': True,\n  'orlando': True,\n  'florida': True,\n  'weather': True,\n  'june': True},\n {'salt': True, 'concentr': True, 'seawat': True},\n {'one': True,\n  'person': True,\n  'view': True,\n  'instagram': True,\n  'video1000': True,\n  'time': True,\n  'get1000': True},\n {'make': True,\n  'use': True,\n  'googl': True,\n  'doubleclick': True,\n  'free': True,\n  'condemn': True,\n  'pay': True,\n  'nose': True},\n {'realli': True, 'arduino': True},\n {'fix': True,\n  'window': True,\n  'media': True,\n  'player': True,\n  'sync': True,\n  'error': True,\n  'tri': True,\n  'laptop': True,\n  'cd': True,\n  'librari': True,\n  'sandisk': True,\n  '64gb': True,\n  'microsd': True,\n  'insid': True,\n  'moto': True,\n  'g4': True,\n  'program': True,\n  'said': True,\n  'someth': True,\n  'like': True,\n  'wmp': True,\n  'encount': True,\n  'synchron': True,\n  'file': True,\n  'devic': True,\n  'info': True},\n {'degre': True,\n  'islam': True,\n  'conquest': True,\n  'impact': True,\n  'farsipersian': True,\n  'languag': True},\n {'characterist': True,\n  'attribut': True,\n  'life': True,\n  'style': True,\n  'skill': True,\n  'trait': True},\n {'cloth': True, 'defin': True, 'charact': True, 'girl': True},\n {'artifici': True, 'intellig': True, 'use': True},\n {'hous': True, 'west': True, 'india': True},\n {'region': True, 'true': True},\n {'set': True, 'chess': True, 'competit': True},\n {'xmen': True,\n  'fantast': True,\n  'four': True,\n  'ever': True,\n  'crossov': True,\n  'film': True},\n {'still': True,\n  'mani': True,\n  'acid': True,\n  'attack': True,\n  'london': True,\n  'muslim': True,\n  'mayor': True},\n {'electron': True,\n  'comput': True,\n  'engin': True,\n  'program': True,\n  'thapar': True,\n  'univers': True,\n  'nba': True,\n  'accredit': True},\n {'download': True,\n  'test': True,\n  'bank': True,\n  'fundament': True,\n  'inform': True,\n  'system': True,\n  'stair': True,\n  '7': True},\n {'explain': True,\n  'implement': True,\n  'simpl': True,\n  '3': True,\n  'layer': True,\n  'neural': True,\n  'netwok': True,\n  'fpga': True},\n {'mani': True,\n  'peopl': True,\n  'could': True,\n  'live': True,\n  'lo': True,\n  'angel': True,\n  'dens': True,\n  'new': True,\n  'york': True},\n {'still': True,\n  'see': True,\n  'contact': True,\n  'person': True,\n  'info': True,\n  'someon': True,\n  'delet': True},\n {'determin': True, 'formula': True, 'semicircl': True, 'perimet': True},\n {'narayan': True,\n  'present': True,\n  'calmer': True,\n  'compar': True,\n  'mahadev': True},\n {'low': True,\n  'end': True,\n  'student': True,\n  'app': True,\n  'use': True,\n  'download': True,\n  'twitter': True,\n  'facebook': True,\n  'data': True},\n {'bare': True,\n  'coverag': True,\n  'news': True,\n  'regard': True,\n  'un': True,\n  'controversi': True,\n  'agenda': True,\n  '2030': True,\n  'although': True,\n  'read': True,\n  'sound': True,\n  'like': True,\n  'technocaci': True,\n  'extrem': True,\n  'import': True,\n  'made': True,\n  'public': True,\n  'sinc': True,\n  'directli': True,\n  'affect': True,\n  'everyon': True,\n  'uk': True},\n {'differ': True,\n  'p': True,\n  'n': True,\n  'valu': True,\n  'javascript': True,\n  'questionnair': True},\n {'collabor': True,\n  'honduran': True,\n  'citizen': True,\n  'stop': True,\n  'juan': True,\n  'orlando': True,\n  'hernandez': True,\n  'illeg': True,\n  'reelect': True},\n {'islam': True,\n  'religion': True,\n  'peac': True,\n  'danger': True,\n  'ban': True,\n  'muslim': True,\n  'us': True,\n  'reaction': True,\n  'democrat': True,\n  'afraid': True},\n {'classi': True,\n  'african': True,\n  'origin': True,\n  'trashi': True,\n  'came': True,\n  'european': True,\n  'famili': True},\n {'studi': True, 'compulsori': True, 'life': True},\n {'altern': True, 'seedr': True},\n {'wikileak': True,\n  'request': True,\n  'trump': True,\n  'tax': True,\n  'make': True,\n  'yet': True,\n  'anoth': True,\n  'bribe': True},\n {'italian': True,\n  'polit': True,\n  'parti': True,\n  'giovanni': True,\n  'turchi': True,\n  'inspir': True,\n  'turkish': True,\n  'young': True,\n  'turk': True},\n {'differ': True, 'revers': True, 'irrevers': True, 'process': True},\n {'one': True, 'like': True, 'social': True, 'scienc': True, 'india': True},\n {'sat': True,\n  'around': True,\n  'world': True,\n  'countri': True,\n  'test': True,\n  'variant': True},\n {'get': True, 'sweat': True, 'im': True, 'asleep': True, 'night': True},\n {'use': True,\n  'allen': True,\n  'neet': True,\n  'major': True,\n  'test': True,\n  'seri': True,\n  '2018': True},\n {'best': True,\n  'websit': True,\n  'follow': True,\n  'archeolog': True,\n  'news': True},\n {'type': True, 'solut': True, 'exampl': True},\n {'disadvantag': True, 'median': True},\n {'program': True,\n  'languag': True,\n  'choos': True,\n  'work': True,\n  'window': True,\n  'mac': True,\n  'linux': True},\n {'think': True,\n  'ssc': True,\n  'scam': True,\n  'protest': True,\n  'outsid': True,\n  'offic': True},\n {'learn': True, 'great': True, 'singer': True, 'youtub': True},\n {'norwegian': True,\n  'think': True,\n  'foreign': True,\n  'peopl': True,\n  'tri': True,\n  'learn': True,\n  'languag': True},\n {'much': True, 'radiologist': True, 'make': True, 'canada': True},\n {'brain': True,\n  'opioid': True,\n  'receptor': True,\n  'bad': True,\n  'health': True},\n {'rc': True, 'cola': True, 'develop': True},\n {'war': True,\n  'north': True,\n  'korea': True,\n  'unlik': True,\n  'thank': True,\n  'moon': True,\n  'jaein': True,\n  'countri': True,\n  'trump': True,\n  'start': True,\n  'first': True,\n  'iran': True,\n  'venezuela': True,\n  'china': True,\n  'nato': True,\n  'wakanda': True,\n  'canada': True},\n {'move': True,\n  'pune': True,\n  'noida': True,\n  'want': True,\n  'bring': True,\n  'car': True,\n  'procedur': True,\n  'pay': True,\n  'road': True,\n  'tax': True,\n  'necessari': True,\n  'get': True,\n  'number': True,\n  'chang': True},\n {'head': True, 'toward': True, '2017': True, 'recess': True},\n {'confus': True, 'jerk': True},\n {'weird': True,\n  'watch': True,\n  'kdrama': True,\n  'listen': True,\n  'kpop': True,\n  'sinc': True,\n  '2005': True,\n  'havent': True,\n  'singl': True,\n  'american': True,\n  'tv': True,\n  'show': True,\n  'live': True,\n  'usa': True},\n {'anyon': True,\n  'care': True,\n  'hillari': True,\n  'clinton': True,\n  'say': True,\n  'anymor': True},\n {'differ': True, 'featurescharacterist': True, 'comput': True},\n {'believ': True,\n  '503': True,\n  'fire': True,\n  'fighter': True,\n  'paramed': True,\n  'emerg': True,\n  'medic': True,\n  'technician': True,\n  'report': True,\n  'hear': True,\n  'explos': True,\n  '911': True,\n  'offici': True},\n {'john': True, 'muir': True, 'transcendentalist': True},\n {'uchiha': True,\n  'seen': True,\n  'sharingan': True,\n  'wonder': True,\n  'awaken': True,\n  'randomli': True,\n  'obtain': True,\n  'kekkei': True,\n  'genkai': True},\n {'misteri': True,\n  'behind': True,\n  'construct': True,\n  'egyptian': True,\n  'pyramid': True},\n {'what': True,\n  'reason': True,\n  'pet': True,\n  'fee': True,\n  'charg': True,\n  'luxuri': True,\n  'apart': True},\n {'get': True,\n  'fire': True,\n  'job': True,\n  'love': True,\n  'feel': True,\n  'like': True,\n  'breakup': True},\n {'arewer': True,\n  'common': True,\n  'practic': True,\n  'amongst': True,\n  'longstand': True,\n  'cultur': True,\n  'worldwid': True,\n  'come': True,\n  'first': True,\n  'year': True,\n  'child': True,\n  '’': True,\n  's': True,\n  'life': True},\n {'best': True,\n  'crazi': True,\n  'client': True,\n  'stori': True,\n  'handl': True,\n  'situat': True},\n {'fli': True, 'cup': True, 'along': True, 'saucer': True},\n {'spiritu': True, 'practic': True, 'lead': True, 'far': True},\n {'game': True, 'love': True, 'everybodi': True, 'els': True, 'hate': True},\n {'what': True,\n  '’': True,\n  's': True,\n  'experi': True,\n  'long': True,\n  'distanc': True,\n  'parent': True},\n {'arab': True,\n  'nonblack': True,\n  'muslim': True,\n  'support': True,\n  'palestinian': True,\n  'say': True,\n  'noth': True,\n  'black': True,\n  'dafur': True,\n  'oppos': True,\n  'slaveri': True,\n  'still': True,\n  'happen': True,\n  'sudan': True,\n  'mauritania': True},\n {'embed': True,\n  'career': True,\n  'c': True,\n  'microcontrol': True,\n  'requir': True,\n  'electron': True,\n  'knowledg': True},\n {'trump': True,\n  'hater': True,\n  'think': True,\n  'say': True,\n  'he': True,\n  '’': True,\n  's': True,\n  'patriot': True,\n  'valid': True,\n  'insult': True,\n  'even': True,\n  'though': True,\n  '8': True,\n  'year': True,\n  'obama': True,\n  'said': True,\n  'exact': True,\n  'thing': True,\n  'view': True,\n  'dumb': True,\n  'meaningless': True},\n {'age': True,\n  'realli': True,\n  'begin': True,\n  'feel': True,\n  'like': True,\n  'teenag': True},\n {'bank': True,\n  'clear': True,\n  'chequ': True,\n  'scanner': True,\n  'machin': True,\n  'work': True},\n {'cant': True,\n  'ira': True,\n  'irish': True,\n  'republican': True,\n  'armi': True,\n  'take': True,\n  'back': True,\n  'ireland': True,\n  'britain': True},\n {'file': True,\n  'petit': True,\n  'help': True,\n  'protest': True,\n  'tamil': True,\n  'nadu': True,\n  'farmer': True},\n {'call': True, 'secretari': True, 'defens': True},\n {'gina': True,\n  'lollobrigida': True,\n  'becom': True,\n  'known': True,\n  'actress': True},\n {'make': True, 'banana': True, 'daiquiri': True},\n {'best': True, 'busi': True, 'school': True, 'malaysia': True},\n {'enfj': True,\n  'infj': True,\n  'except': True,\n  'one': True,\n  'go': True,\n  'also': True,\n  'true': True,\n  'type': True,\n  'respect': True},\n {'girlfriend': True,\n  'got': True,\n  'pregnant': True,\n  'twin': True,\n  'differ': True,\n  'man': True,\n  'left': True,\n  'countri': True,\n  'stay': True,\n  'support': True},\n {'much': True,\n  'cost': True,\n  'send': True,\n  'legal': True,\n  'notic': True,\n  'partit': True,\n  'properti': True,\n  'india': True},\n {'log': True,\n  'someon': True,\n  '’': True,\n  's': True,\n  'snapchat': True,\n  'account': True,\n  'don': True,\n  't': True,\n  'know': True,\n  'password': True},\n {'hot': True,\n  'topic': True,\n  'current': True,\n  'affair': True,\n  'upsc': True,\n  'cse': True,\n  '2018': True},\n {'trump': True,\n  'gall': True,\n  'critic': True,\n  'mayor': True,\n  'san': True,\n  'juan': True,\n  'leadership': True,\n  'think': True,\n  'next': True,\n  'take': True,\n  'heat': True,\n  'shoulder': True},\n {'real': True, 'sister': True, 'emraan': True, 'hashmi': True},\n {'child': True, 'institutionalis': True},\n {'enemi': True, 'tasmanian': True, 'devil': True},\n {'i': True,\n  '’': True,\n  'd': True,\n  'danger': True,\n  'gay': True,\n  'sex': True,\n  'at9yer': True,\n  'old': True},\n {'sign': True, 'infect': True, 'burn': True},\n {'could': True,\n  'cat': True,\n  'figur': True,\n  'laser': True,\n  'dot': True,\n  'come': True},\n {'one': True, 'iq': True, 'drop': True, 'get': True, 'old': True},\n {'sex': True, 'sister': True},\n {'make': True, 'home': True, 'address': True},\n {'cure': True,\n  'period': True,\n  'rcc': True,\n  'structur': True,\n  'per': True,\n  'code': True},\n {'user': True,\n  'growth': True,\n  'track': True,\n  'use': True,\n  'l28': True,\n  'also': True,\n  'account': True,\n  'month': True,\n  '28': True,\n  'day': True},\n {'fish': True,\n  'anim': True,\n  'sea': True,\n  'water': True,\n  'breath': True,\n  'oxygen': True,\n  'order': True,\n  'surviv': True},\n {'english': True, 'gentleman': True, 'stereotyp': True, 'come': True},\n {'would': True,\n  'christoph': True,\n  'hitchen': True,\n  'say': True,\n  'donald': True,\n  'trump': True,\n  'elect': True},\n {'measur': True,\n  'dispers': True,\n  'gener': True,\n  'use': True,\n  'data': True,\n  'scatter': True,\n  'justifi': True,\n  'precis': True,\n  'varibl': True},\n {'demonotis': True, 'affect': True, 'gdp': True, 'rate': True, 'india': True},\n {'use': True, 'strawberri': True, 'powder': True},\n {'great': True, 'photo': True, 'describ': True, 'pur': True, 'societi': True},\n {'north': True,\n  'korea': True,\n  'stop': True,\n  'cult': True,\n  'start': True,\n  'countri': True},\n {'fire': True, 'brick': True, 'adapt': True, 'fireplac': True},\n {'like': True, 'fbi': True, 'agent': True},\n {'crush': True,\n  'aunt': True,\n  'milf': True,\n  'tell': True,\n  'she': True,\n  'pretti': True,\n  'like': True},\n {'best': True, 'way': True, 'build': True, 'effect': True, 'network': True},\n {'give': True, 'tri': True, 'pioneer': True, 'new': True, 'idea': True},\n {'want': True,\n  'scrap': True,\n  'bike': True,\n  'state': True,\n  'registr': True,\n  'tell': True,\n  'process': True},\n {'anyth': True, 'ambulan': True, 'sum': True, 'mean': True, 'latin': True},\n {'could': True,\n  'first': True,\n  'class': True,\n  'packag': True,\n  'royal': True,\n  'mail': True,\n  'belfast': True,\n  'birmingham': True,\n  'arriv': True,\n  'day': True},\n {'manag': True, 'upsc': True, 'prepar': True, 'privat': True, 'job': True},\n {'connect': True, 'wire': True, 'mosfet': True},\n {'weird': True,\n  'want': True,\n  'futur': True,\n  'boyfriend': True,\n  'psychopath': True},\n {'thing': True,\n  'societi': True,\n  'thought': True,\n  'imposs': True,\n  '10': True,\n  'year': True,\n  'ago': True,\n  'today': True},\n {'often': True, 'empti': True, 'septic': True, 'tank': True},\n {'inspir': True,\n  'stan': True,\n  'lee': True,\n  'creat': True,\n  'charact': True,\n  'jean': True,\n  'grey': True},\n {'normal': True, 'ejacul': True, 'clear': True, 'semen': True},\n {'meant': True,\n  'rich': True,\n  'fantasi': True,\n  'life': True,\n  'refer': True,\n  'schizoid': True},\n {'good': True,\n  'chines': True,\n  'novel': True,\n  'translat': True,\n  'english': True},\n {'fast': True,\n  'run': True,\n  '150': True,\n  'meter': True,\n  '38': True,\n  'second': True},\n {'muslim': True,\n  'countri': True,\n  'dont': True,\n  'allow': True,\n  'women': True,\n  'vote': True,\n  'men': True},\n {'world': True, 'human': True, 'organ': True, 'one': True, 'would': True},\n {'diagnosticpredict': True,\n  'valu': True,\n  'coronari': True,\n  'calcium': True,\n  'score': True,\n  'person': True,\n  'alreadi': True,\n  'three': True,\n  'stent': True},\n {'one': True,\n  'increas': True,\n  'deep': True,\n  'sleep': True,\n  'adult': True,\n  'compar': True,\n  'children': True},\n {'beyonc': True, 'idol': True},\n {'cutoff': True,\n  'rank': True,\n  'iit': True,\n  'madra': True,\n  'decreas': True,\n  '2017': True},\n {'digicoin': True, 'reach': True, '1': True, 'futur': True},\n {'negoti': True,\n  'term': True,\n  'insur': True,\n  'premium': True,\n  'amount': True},\n {'wear': True, 'detail': True, 'knitwear': True},\n {'best': True, 'place': True, 'learn': True, 'act': True, 'nepal': True},\n {'get': True, 'smell': True, 'mildew': True, 'fabric': True},\n {'ne': True, 'serv': True, 'ti': True, 'intp': True},\n {'type': True, 'fungi': True, 'found': True, 'taiga': True},\n {'older': True,\n  'femal': True,\n  'pig': True,\n  'tri': True,\n  'take': True,\n  'newborn': True,\n  'kitten': True,\n  'mother': True},\n {'good': True,\n  'dyi': True,\n  'project': True,\n  'dremel': True,\n  'miter': True,\n  'saw': True},\n {'best': True, 'way': True, 'start': True, 'commun': True, 'somebodi': True},\n {'indian': True,\n  'peni': True,\n  'size': True,\n  'less': True,\n  'compar': True,\n  'pakistani': True},\n {'big': True, 'bang': True, 'bullshit': True},\n {'truth': True, 'think': True, 'anyon': True, 'becom': True, 'anyth': True},\n {'start': True, 'write': True, 'research': True, 'paper': True},\n {'learn': True, 'autom': True, 'test': True},\n {'main': True, 'aim': True, 'construct': True, 'indu': True, 'valley': True},\n {'doesnt': True,\n  'trump': True,\n  'order': True,\n  'justic': True,\n  'depart': True,\n  'investig': True,\n  'hillari': True},\n {'combat': True, 'loni': True},\n {'email': True,\n  'alway': True,\n  'spam': True,\n  'section': True,\n  'sent': True,\n  'go': True,\n  'daddi': True,\n  'write': True,\n  'custom': True},\n {'oman': True, 'defeat': True, 'iraq': True, 'war': True},\n {'first': True, 'question': True, 'pm': True, 'modi': True, 'meet': True},\n {'infin': True, 'real': True},\n {'cool': True, 'batch': True, 'file': True, 'virusprank': True},\n {'theme': True,\n  'novel': True,\n  'catcher': True,\n  'rye': True,\n  'j': True,\n  'saling': True},\n {'daoist': True,\n  'describ': True,\n  'bit': True,\n  'approach': True,\n  'life': True,\n  'exercis': True,\n  'teach': True,\n  'laozi': True},\n {'come': True, 'know': True, 'use': True, 'would': True},\n ...]"
          },
          "metadata": {}
        }
      ]
    },
    {
      "cell_type": "markdown",
      "source": [
        "#### Dividing given data into training and testing data"
      ],
      "metadata": {
        "id": "xuBPNq4n2398"
      }
    },
    {
      "cell_type": "code",
      "source": [
        "question_target = []\n",
        "\n",
        "for index, row in df.head(900000).iterrows():\n",
        "    question_target.append([feature_set[index], row['target']])\n"
      ],
      "metadata": {
        "execution": {
          "iopub.status.busy": "2022-10-16T17:23:30.704236Z",
          "iopub.execute_input": "2022-10-16T17:23:30.704680Z",
          "iopub.status.idle": "2022-10-16T17:24:19.067893Z",
          "shell.execute_reply.started": "2022-10-16T17:23:30.704649Z",
          "shell.execute_reply": "2022-10-16T17:24:19.066748Z"
        },
        "trusted": true,
        "id": "_WXQlGN_2398"
      },
      "execution_count": null,
      "outputs": []
    },
    {
      "cell_type": "code",
      "source": [
        "training_data = question_target[: int((len(question_target))*0.9)]\n",
        "testing_data = question_target[int((len(question_target))*0.9):]"
      ],
      "metadata": {
        "execution": {
          "iopub.status.busy": "2022-10-16T17:24:32.924622Z",
          "iopub.execute_input": "2022-10-16T17:24:32.925824Z",
          "iopub.status.idle": "2022-10-16T17:24:32.951342Z",
          "shell.execute_reply.started": "2022-10-16T17:24:32.925762Z",
          "shell.execute_reply": "2022-10-16T17:24:32.949805Z"
        },
        "trusted": true,
        "id": "qkVXTsBM2398"
      },
      "execution_count": null,
      "outputs": []
    },
    {
      "cell_type": "markdown",
      "source": [
        "## MODELS"
      ],
      "metadata": {
        "id": "IJlVG7o32398"
      }
    },
    {
      "cell_type": "markdown",
      "source": [
        "## 1. Naive Bayes "
      ],
      "metadata": {
        "id": "jnPqAV2q2398"
      }
    },
    {
      "cell_type": "code",
      "source": [
        "naive_bayes_model = NaiveBayesClassifier.train(training_data)"
      ],
      "metadata": {
        "execution": {
          "iopub.status.busy": "2022-10-16T17:24:35.455148Z",
          "iopub.execute_input": "2022-10-16T17:24:35.455782Z",
          "iopub.status.idle": "2022-10-16T17:24:52.877356Z",
          "shell.execute_reply.started": "2022-10-16T17:24:35.455730Z",
          "shell.execute_reply": "2022-10-16T17:24:52.876112Z"
        },
        "trusted": true,
        "id": "KEzMRstq2398"
      },
      "execution_count": null,
      "outputs": []
    },
    {
      "cell_type": "code",
      "source": [
        "accuracy = nltk.classify.accuracy(naive_bayes_model, testing_data)"
      ],
      "metadata": {
        "execution": {
          "iopub.status.busy": "2022-10-16T17:24:57.455862Z",
          "iopub.execute_input": "2022-10-16T17:24:57.456279Z",
          "iopub.status.idle": "2022-10-16T17:25:01.825775Z",
          "shell.execute_reply.started": "2022-10-16T17:24:57.456245Z",
          "shell.execute_reply": "2022-10-16T17:25:01.824521Z"
        },
        "trusted": true,
        "id": "UUTo4TO42398"
      },
      "execution_count": null,
      "outputs": []
    },
    {
      "cell_type": "code",
      "source": [
        "print(\"Using Naive Bayes\\nAccuracy: \", accuracy*100, \"%\")"
      ],
      "metadata": {
        "execution": {
          "iopub.status.busy": "2022-10-16T17:25:04.448650Z",
          "iopub.execute_input": "2022-10-16T17:25:04.449104Z",
          "iopub.status.idle": "2022-10-16T17:25:04.455812Z",
          "shell.execute_reply.started": "2022-10-16T17:25:04.449066Z",
          "shell.execute_reply": "2022-10-16T17:25:04.454116Z"
        },
        "trusted": true,
        "id": "bZBpovD62399",
        "outputId": "73d679ad-772a-4981-f65a-3866a7bf732a"
      },
      "execution_count": null,
      "outputs": [
        {
          "name": "stdout",
          "text": "Using Naive Bayes\nAccuracy:  83.92333333333333 %\n",
          "output_type": "stream"
        }
      ]
    },
    {
      "cell_type": "markdown",
      "source": [
        "## 2. Multinomial Naive Bayes"
      ],
      "metadata": {
        "id": "9mem7at42399"
      }
    },
    {
      "cell_type": "code",
      "source": [
        "multi_naive_bayes_model = SklearnClassifier(MultinomialNB())"
      ],
      "metadata": {
        "execution": {
          "iopub.status.busy": "2022-10-16T17:25:10.426913Z",
          "iopub.execute_input": "2022-10-16T17:25:10.427328Z",
          "iopub.status.idle": "2022-10-16T17:25:10.433307Z",
          "shell.execute_reply.started": "2022-10-16T17:25:10.427296Z",
          "shell.execute_reply": "2022-10-16T17:25:10.432040Z"
        },
        "trusted": true,
        "id": "rrkmv5oW2399"
      },
      "execution_count": null,
      "outputs": []
    },
    {
      "cell_type": "code",
      "source": [
        "multi_naive_bayes_model.train(training_data)"
      ],
      "metadata": {
        "execution": {
          "iopub.status.busy": "2022-10-16T17:25:59.989197Z",
          "iopub.execute_input": "2022-10-16T17:25:59.989601Z",
          "iopub.status.idle": "2022-10-16T17:26:10.227277Z",
          "shell.execute_reply.started": "2022-10-16T17:25:59.989565Z",
          "shell.execute_reply": "2022-10-16T17:26:10.225940Z"
        },
        "trusted": true,
        "id": "-PKVGLcF2399",
        "outputId": "b19891bf-d761-44e5-c43b-f9eb88c4d4a7"
      },
      "execution_count": null,
      "outputs": [
        {
          "execution_count": 61,
          "output_type": "execute_result",
          "data": {
            "text/plain": "<SklearnClassifier(MultinomialNB())>"
          },
          "metadata": {}
        }
      ]
    },
    {
      "cell_type": "code",
      "source": [
        "accuracy = nltk.classify.accuracy(multi_naive_bayes_model, testing_data)"
      ],
      "metadata": {
        "execution": {
          "iopub.status.busy": "2022-10-16T17:26:12.653626Z",
          "iopub.execute_input": "2022-10-16T17:26:12.654135Z",
          "iopub.status.idle": "2022-10-16T17:26:14.018460Z",
          "shell.execute_reply.started": "2022-10-16T17:26:12.654093Z",
          "shell.execute_reply": "2022-10-16T17:26:14.017012Z"
        },
        "trusted": true,
        "id": "G8qfB_0v2399"
      },
      "execution_count": null,
      "outputs": []
    },
    {
      "cell_type": "code",
      "source": [
        "print(\"Using Multinomial Naive Bayes\\nAccuracy: \", accuracy*100, \"%\")"
      ],
      "metadata": {
        "execution": {
          "iopub.status.busy": "2022-10-16T17:26:16.566068Z",
          "iopub.execute_input": "2022-10-16T17:26:16.566496Z",
          "iopub.status.idle": "2022-10-16T17:26:16.573734Z",
          "shell.execute_reply.started": "2022-10-16T17:26:16.566461Z",
          "shell.execute_reply": "2022-10-16T17:26:16.572196Z"
        },
        "trusted": true,
        "id": "7CDF20Rw2399",
        "outputId": "d73faaca-ed22-4e09-9979-500df460cd6e"
      },
      "execution_count": null,
      "outputs": [
        {
          "name": "stdout",
          "text": "Using Multinomial Naive Bayes\nAccuracy:  93.98555555555555 %\n",
          "output_type": "stream"
        }
      ]
    },
    {
      "cell_type": "markdown",
      "source": [
        "## 3. Logistic Regression"
      ],
      "metadata": {
        "id": "zSv-22Pj239-"
      }
    },
    {
      "cell_type": "code",
      "source": [
        "logistic_regression_model = SklearnClassifier(LogisticRegression())"
      ],
      "metadata": {
        "execution": {
          "iopub.status.busy": "2022-10-16T17:26:26.054100Z",
          "iopub.execute_input": "2022-10-16T17:26:26.054523Z",
          "iopub.status.idle": "2022-10-16T17:26:26.060555Z",
          "shell.execute_reply.started": "2022-10-16T17:26:26.054486Z",
          "shell.execute_reply": "2022-10-16T17:26:26.058857Z"
        },
        "trusted": true,
        "id": "TRHTXtAq239-"
      },
      "execution_count": null,
      "outputs": []
    },
    {
      "cell_type": "code",
      "source": [
        "logistic_regression_model.train(training_data)"
      ],
      "metadata": {
        "execution": {
          "iopub.status.busy": "2022-10-16T17:26:29.444802Z",
          "iopub.execute_input": "2022-10-16T17:26:29.445243Z",
          "iopub.status.idle": "2022-10-16T17:27:02.885488Z",
          "shell.execute_reply.started": "2022-10-16T17:26:29.445207Z",
          "shell.execute_reply": "2022-10-16T17:27:02.883822Z"
        },
        "trusted": true,
        "id": "B-mHipK8239-"
      },
      "execution_count": null,
      "outputs": []
    },
    {
      "cell_type": "code",
      "source": [
        "accuracy = nltk.classify.accuracy(logistic_regression_model, testing_data)"
      ],
      "metadata": {
        "execution": {
          "iopub.status.busy": "2022-10-16T17:27:17.546712Z",
          "iopub.execute_input": "2022-10-16T17:27:17.547823Z",
          "iopub.status.idle": "2022-10-16T17:27:18.827784Z",
          "shell.execute_reply.started": "2022-10-16T17:27:17.547762Z",
          "shell.execute_reply": "2022-10-16T17:27:18.826335Z"
        },
        "trusted": true,
        "id": "B0xUooDL239-"
      },
      "execution_count": null,
      "outputs": []
    },
    {
      "cell_type": "code",
      "source": [
        "print(\"Using Logistic Regression\\nAccuracy: \", accuracy*100, \"%\")"
      ],
      "metadata": {
        "execution": {
          "iopub.status.busy": "2022-10-16T17:27:22.931736Z",
          "iopub.execute_input": "2022-10-16T17:27:22.933081Z",
          "iopub.status.idle": "2022-10-16T17:27:22.939384Z",
          "shell.execute_reply.started": "2022-10-16T17:27:22.933018Z",
          "shell.execute_reply": "2022-10-16T17:27:22.938087Z"
        },
        "trusted": true,
        "id": "Ne6S9Fb-239-",
        "outputId": "53ae5098-c686-42d2-f444-b1b3dba1e177"
      },
      "execution_count": null,
      "outputs": [
        {
          "name": "stdout",
          "text": "Using Logistic Regression\nAccuracy:  95.08222222222223 %\n",
          "output_type": "stream"
        }
      ]
    },
    {
      "cell_type": "markdown",
      "source": [
        "## Bag of words"
      ],
      "metadata": {
        "id": "aJsX2rxv239-"
      }
    },
    {
      "cell_type": "code",
      "source": [
        "# from sklearn.ensemble import RandomForestClassifier\n",
        "# from sklearn.svm import SVC\n",
        "# from sklearn.metrics import accuracy_score, classification_report, confusion_matrix\n",
        "# from sklearn.pipeline import Pipeline\n",
        "# from sklearn.feature_extraction.text import TfidfVectorizer"
      ],
      "metadata": {
        "id": "u78SVRxS239_"
      },
      "execution_count": null,
      "outputs": []
    },
    {
      "cell_type": "code",
      "source": [
        "# vectorizer = TfidfVectorizer()\n",
        "# X = vectorizer.fit_transform(df[\"question_text_pre_processed\"])"
      ],
      "metadata": {
        "execution": {
          "iopub.status.busy": "2022-10-16T11:37:47.640321Z",
          "iopub.status.idle": "2022-10-16T11:37:47.641020Z",
          "shell.execute_reply.started": "2022-10-16T11:37:47.640805Z",
          "shell.execute_reply": "2022-10-16T11:37:47.640825Z"
        },
        "trusted": true,
        "id": "lo6rKRrQ239_"
      },
      "execution_count": null,
      "outputs": []
    },
    {
      "cell_type": "code",
      "source": [
        "# X.shape"
      ],
      "metadata": {
        "execution": {
          "iopub.status.busy": "2022-10-16T11:37:47.642372Z",
          "iopub.status.idle": "2022-10-16T11:37:47.642730Z",
          "shell.execute_reply.started": "2022-10-16T11:37:47.642559Z",
          "shell.execute_reply": "2022-10-16T11:37:47.642576Z"
        },
        "trusted": true,
        "id": "9OfxcBfU239_"
      },
      "execution_count": null,
      "outputs": []
    },
    {
      "cell_type": "markdown",
      "source": [
        "## Pipeline and Random Forest"
      ],
      "metadata": {
        "id": "qzZYxeFK239_"
      }
    },
    {
      "cell_type": "code",
      "source": [
        "# X.shape"
      ],
      "metadata": {
        "execution": {
          "iopub.status.busy": "2022-10-16T11:37:47.643970Z",
          "iopub.status.idle": "2022-10-16T11:37:47.644380Z",
          "shell.execute_reply.started": "2022-10-16T11:37:47.644166Z",
          "shell.execute_reply": "2022-10-16T11:37:47.644211Z"
        },
        "trusted": true,
        "id": "kj76OoVF239_"
      },
      "execution_count": null,
      "outputs": []
    },
    {
      "cell_type": "code",
      "source": [
        "# clf = Pipeline([('tfidf', TfidfVectorizer()), ('clf', RandomForestClassifier(n_estimators=100, n_jobs=-1))])"
      ],
      "metadata": {
        "execution": {
          "iopub.status.busy": "2022-10-16T11:37:47.645681Z",
          "iopub.status.idle": "2022-10-16T11:37:47.646071Z",
          "shell.execute_reply.started": "2022-10-16T11:37:47.645865Z",
          "shell.execute_reply": "2022-10-16T11:37:47.645883Z"
        },
        "trusted": true,
        "id": "OB8sDk_0239_"
      },
      "execution_count": null,
      "outputs": []
    },
    {
      "cell_type": "code",
      "source": [
        "# clf.fit(df['question_text_pre_processed'], df['target'])"
      ],
      "metadata": {
        "execution": {
          "iopub.status.busy": "2022-10-16T11:37:47.647415Z",
          "iopub.status.idle": "2022-10-16T11:37:47.647779Z",
          "shell.execute_reply.started": "2022-10-16T11:37:47.647599Z",
          "shell.execute_reply": "2022-10-16T11:37:47.647616Z"
        },
        "trusted": true,
        "id": "3QMw9lDb23-A"
      },
      "execution_count": null,
      "outputs": []
    },
    {
      "cell_type": "code",
      "source": [
        "# df2 = pd.read_csv(\"../input/yahoo-troll-question-detection/test_df.csv\")\n",
        "\n",
        "# Y_pred = clf.predict(df2[\"question_text\"])"
      ],
      "metadata": {
        "execution": {
          "iopub.status.busy": "2022-10-16T11:37:47.648900Z",
          "iopub.status.idle": "2022-10-16T11:37:47.649584Z",
          "shell.execute_reply.started": "2022-10-16T11:37:47.649383Z",
          "shell.execute_reply": "2022-10-16T11:37:47.649404Z"
        },
        "trusted": true,
        "id": "epTqyocH23-A"
      },
      "execution_count": null,
      "outputs": []
    },
    {
      "cell_type": "code",
      "source": [],
      "metadata": {
        "id": "cVr8ZuJX23-A"
      },
      "execution_count": null,
      "outputs": []
    }
  ]
}